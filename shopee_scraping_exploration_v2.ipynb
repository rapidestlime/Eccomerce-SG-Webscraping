{
  "nbformat": 4,
  "nbformat_minor": 0,
  "metadata": {
    "colab": {
      "provenance": [],
      "mount_file_id": "1WUOGbutpH_GLwzYSsCUaM9kMYS_x4LxQ",
      "authorship_tag": "ABX9TyPH7H2hYVS0nMjkNAVTN5ZG",
      "include_colab_link": true
    },
    "kernelspec": {
      "name": "python3",
      "display_name": "Python 3"
    },
    "language_info": {
      "name": "python"
    }
  },
  "cells": [
    {
      "cell_type": "markdown",
      "metadata": {
        "id": "view-in-github",
        "colab_type": "text"
      },
      "source": [
        "<a href=\"https://colab.research.google.com/github/rapidestlime/Eccomerce-SG-Webscraping/blob/main/shopee_scraping_exploration_v2.ipynb\" target=\"_parent\"><img src=\"https://colab.research.google.com/assets/colab-badge.svg\" alt=\"Open In Colab\"/></a>"
      ]
    },
    {
      "cell_type": "markdown",
      "source": [
        "# 1.Import Libraries"
      ],
      "metadata": {
        "id": "73Oqir66cVhD"
      }
    },
    {
      "cell_type": "markdown",
      "source": [
        "Install chromedriver properly on colab properly"
      ],
      "metadata": {
        "id": "JLpgrp2BOm4s"
      }
    },
    {
      "cell_type": "code",
      "source": [
        "%%shell\n",
        "# Ubuntu no longer distributes chromium-browser outside of snap\n",
        "#\n",
        "# Proposed solution: https://askubuntu.com/questions/1204571/how-to-install-chromium-without-snap\n",
        "# https://stackoverflow.com/questions/75155063/selenium-use-chrome-on-colab-got-unexpectedly-exited\n",
        "\n",
        "# Add debian buster\n",
        "cat > /etc/apt/sources.list.d/debian.list <<'EOF'\n",
        "deb [arch=amd64 signed-by=/usr/share/keyrings/debian-buster.gpg] http://deb.debian.org/debian buster main\n",
        "deb [arch=amd64 signed-by=/usr/share/keyrings/debian-buster-updates.gpg] http://deb.debian.org/debian buster-updates main\n",
        "deb [arch=amd64 signed-by=/usr/share/keyrings/debian-security-buster.gpg] http://deb.debian.org/debian-security buster/updates main\n",
        "EOF\n",
        "\n",
        "# Add keys\n",
        "apt-key adv --keyserver keyserver.ubuntu.com --recv-keys DCC9EFBF77E11517\n",
        "apt-key adv --keyserver keyserver.ubuntu.com --recv-keys 648ACFD622F3D138\n",
        "apt-key adv --keyserver keyserver.ubuntu.com --recv-keys 112695A0E562B32A\n",
        "\n",
        "apt-key export 77E11517 | gpg --dearmour -o /usr/share/keyrings/debian-buster.gpg\n",
        "apt-key export 22F3D138 | gpg --dearmour -o /usr/share/keyrings/debian-buster-updates.gpg\n",
        "apt-key export E562B32A | gpg --dearmour -o /usr/share/keyrings/debian-security-buster.gpg\n",
        "\n",
        "# Prefer debian repo for chromium* packages only\n",
        "# Note the double-blank lines between entries\n",
        "cat > /etc/apt/preferences.d/chromium.pref << 'EOF'\n",
        "Package: *\n",
        "Pin: release a=eoan\n",
        "Pin-Priority: 500\n",
        "\n",
        "\n",
        "Package: *\n",
        "Pin: origin \"deb.debian.org\"\n",
        "Pin-Priority: 300\n",
        "\n",
        "\n",
        "Package: chromium*\n",
        "Pin: origin \"deb.debian.org\"\n",
        "Pin-Priority: 700\n",
        "EOF\n",
        "\n",
        "# Install chromium and chromium-driver and snap\n",
        "apt-get update\n",
        "apt-get install chromium chromium-driver\n",
        "sudo apt install snapd"
      ],
      "metadata": {
        "colab": {
          "base_uri": "https://localhost:8080/"
        },
        "id": "aUuaU_omOIU0",
        "outputId": "3f2e01a5-1abc-4611-9d07-d1095d1128db"
      },
      "execution_count": null,
      "outputs": [
        {
          "output_type": "stream",
          "name": "stdout",
          "text": [
            "Executing: /tmp/apt-key-gpghome.vfHsmne8tn/gpg.1.sh --keyserver keyserver.ubuntu.com --recv-keys DCC9EFBF77E11517\n",
            "gpg: key DCC9EFBF77E11517: public key \"Debian Stable Release Key (10/buster) <debian-release@lists.debian.org>\" imported\n",
            "gpg: Total number processed: 1\n",
            "gpg:               imported: 1\n",
            "Executing: /tmp/apt-key-gpghome.dOo9Xqy4EB/gpg.1.sh --keyserver keyserver.ubuntu.com --recv-keys 648ACFD622F3D138\n",
            "gpg: key DC30D7C23CBBABEE: public key \"Debian Archive Automatic Signing Key (10/buster) <ftpmaster@debian.org>\" imported\n",
            "gpg: Total number processed: 1\n",
            "gpg:               imported: 1\n",
            "Executing: /tmp/apt-key-gpghome.ovlqG0Opfx/gpg.1.sh --keyserver keyserver.ubuntu.com --recv-keys 112695A0E562B32A\n",
            "gpg: key 4DFAB270CAA96DFA: public key \"Debian Security Archive Automatic Signing Key (10/buster) <ftpmaster@debian.org>\" imported\n",
            "gpg: Total number processed: 1\n",
            "gpg:               imported: 1\n",
            "Warning: apt-key output should not be parsed (stdout is not a terminal)\n",
            "Warning: apt-key output should not be parsed (stdout is not a terminal)\n",
            "Warning: apt-key output should not be parsed (stdout is not a terminal)\n",
            "Get:1 http://deb.debian.org/debian buster InRelease [122 kB]\n",
            "Get:2 https://cloud.r-project.org/bin/linux/ubuntu focal-cran40/ InRelease [3,622 B]\n",
            "Ign:3 https://developer.download.nvidia.com/compute/machine-learning/repos/ubuntu2004/x86_64  InRelease\n",
            "Get:4 http://deb.debian.org/debian buster-updates InRelease [56.6 kB]\n",
            "Hit:5 https://developer.download.nvidia.com/compute/cuda/repos/ubuntu2004/x86_64  InRelease\n",
            "Hit:6 https://developer.download.nvidia.com/compute/machine-learning/repos/ubuntu2004/x86_64  Release\n",
            "Get:7 http://deb.debian.org/debian-security buster/updates InRelease [34.8 kB]\n",
            "Get:8 http://ppa.launchpad.net/c2d4u.team/c2d4u4.0+/ubuntu focal InRelease [18.1 kB]\n",
            "Get:9 http://security.ubuntu.com/ubuntu focal-security InRelease [114 kB]\n",
            "Hit:10 http://archive.ubuntu.com/ubuntu focal InRelease\n",
            "Get:11 http://deb.debian.org/debian buster/main amd64 Packages [10.7 MB]\n",
            "Get:12 http://archive.ubuntu.com/ubuntu focal-updates InRelease [114 kB]\n",
            "Hit:13 http://ppa.launchpad.net/cran/libgit2/ubuntu focal InRelease\n",
            "Get:14 http://deb.debian.org/debian buster-updates/main amd64 Packages [9,745 B]\n",
            "Get:16 http://deb.debian.org/debian-security buster/updates/main amd64 Packages [550 kB]\n",
            "Get:17 http://ppa.launchpad.net/deadsnakes/ppa/ubuntu focal InRelease [18.1 kB]\n",
            "Get:18 http://archive.ubuntu.com/ubuntu focal-backports InRelease [108 kB]\n",
            "Hit:19 http://ppa.launchpad.net/graphics-drivers/ppa/ubuntu focal InRelease\n",
            "Hit:20 http://ppa.launchpad.net/ubuntugis/ppa/ubuntu focal InRelease\n",
            "Get:21 http://security.ubuntu.com/ubuntu focal-security/universe amd64 Packages [994 kB]\n",
            "Get:22 http://ppa.launchpad.net/c2d4u.team/c2d4u4.0+/ubuntu focal/main Sources [2,386 kB]\n",
            "Get:23 http://archive.ubuntu.com/ubuntu focal-updates/restricted amd64 Packages [2,062 kB]\n",
            "Get:24 http://security.ubuntu.com/ubuntu focal-security/main amd64 Packages [2,479 kB]\n",
            "Get:25 http://archive.ubuntu.com/ubuntu focal-updates/main amd64 Packages [2,965 kB]\n",
            "Get:26 http://archive.ubuntu.com/ubuntu focal-updates/universe amd64 Packages [1,295 kB]\n",
            "Get:27 http://ppa.launchpad.net/c2d4u.team/c2d4u4.0+/ubuntu focal/main amd64 Packages [1,131 kB]\n",
            "Get:28 http://ppa.launchpad.net/deadsnakes/ppa/ubuntu focal/main amd64 Packages [29.5 kB]\n",
            "Fetched 25.2 MB in 4s (6,993 kB/s)\n",
            "Reading package lists... Done\n",
            "Reading package lists... Done\n",
            "Building dependency tree       \n",
            "Reading state information... Done\n",
            "The following package was automatically installed and is no longer required:\n",
            "  libnvidia-common-510\n",
            "Use 'apt autoremove' to remove it.\n",
            "The following additional packages will be installed:\n",
            "  chromium-common chromium-sandbox libevent-2.1-6 libicu63 libimobiledevice6\n",
            "  libjpeg62-turbo libplist3 libre2-5 libu2f-udev libusbmuxd6 libvpx5\n",
            "  libxxf86dga1 upower usbmuxd x11-utils\n",
            "Suggested packages:\n",
            "  chromium-l10n chromium-shell libusbmuxd-tools mesa-utils\n",
            "The following NEW packages will be installed:\n",
            "  chromium chromium-common chromium-driver chromium-sandbox libevent-2.1-6\n",
            "  libicu63 libimobiledevice6 libjpeg62-turbo libplist3 libre2-5 libu2f-udev\n",
            "  libusbmuxd6 libvpx5 libxxf86dga1 upower usbmuxd x11-utils\n",
            "0 upgraded, 17 newly installed, 0 to remove and 28 not upgraded.\n",
            "Need to get 74.6 MB of archives.\n",
            "After this operation, 256 MB of additional disk space will be used.\n",
            "Get:1 http://deb.debian.org/debian buster/main amd64 libevent-2.1-6 amd64 2.1.8-stable-4 [177 kB]\n",
            "Get:2 http://deb.debian.org/debian buster/main amd64 libicu63 amd64 63.1-6+deb10u3 [8,293 kB]\n",
            "Get:3 http://archive.ubuntu.com/ubuntu focal/main amd64 libre2-5 amd64 20200101+dfsg-1build1 [162 kB]\n",
            "Get:4 http://deb.debian.org/debian buster/main amd64 libjpeg62-turbo amd64 1:1.5.2-2+deb10u1 [133 kB]\n",
            "Get:5 http://deb.debian.org/debian buster/main amd64 libvpx5 amd64 1.7.0-3+deb10u1 [800 kB]\n",
            "Get:6 http://deb.debian.org/debian buster/main amd64 chromium-common amd64 90.0.4430.212-1~deb10u1 [1,423 kB]\n",
            "Get:7 http://deb.debian.org/debian buster/main amd64 chromium amd64 90.0.4430.212-1~deb10u1 [58.3 MB]\n",
            "Get:8 http://archive.ubuntu.com/ubuntu focal/main amd64 libxxf86dga1 amd64 2:1.1.5-0ubuntu1 [12.0 kB]\n",
            "Get:9 http://archive.ubuntu.com/ubuntu focal/main amd64 x11-utils amd64 7.7+5 [199 kB]\n",
            "Get:10 http://archive.ubuntu.com/ubuntu focal/main amd64 libplist3 amd64 2.1.0-4build2 [31.6 kB]\n",
            "Get:11 http://archive.ubuntu.com/ubuntu focal/main amd64 libusbmuxd6 amd64 2.0.1-2 [19.1 kB]\n",
            "Get:12 http://archive.ubuntu.com/ubuntu focal/main amd64 libimobiledevice6 amd64 1.2.1~git20191129.9f79242-1build1 [65.2 kB]\n",
            "Get:13 http://archive.ubuntu.com/ubuntu focal/main amd64 libu2f-udev all 1.1.10-1 [6,108 B]\n",
            "Get:14 http://archive.ubuntu.com/ubuntu focal/main amd64 upower amd64 0.99.11-1build2 [104 kB]\n",
            "Get:15 http://archive.ubuntu.com/ubuntu focal/main amd64 usbmuxd amd64 1.1.1~git20191130.9af2b12-1 [38.4 kB]\n",
            "Get:16 http://deb.debian.org/debian buster/main amd64 chromium-driver amd64 90.0.4430.212-1~deb10u1 [4,703 kB]\n",
            "Get:17 http://deb.debian.org/debian buster/main amd64 chromium-sandbox amd64 90.0.4430.212-1~deb10u1 [146 kB]\n",
            "Fetched 74.6 MB in 1s (58.4 MB/s)\n",
            "Selecting previously unselected package libevent-2.1-6:amd64.\n",
            "(Reading database ... 128097 files and directories currently installed.)\n",
            "Preparing to unpack .../00-libevent-2.1-6_2.1.8-stable-4_amd64.deb ...\n",
            "Unpacking libevent-2.1-6:amd64 (2.1.8-stable-4) ...\n",
            "Selecting previously unselected package libicu63:amd64.\n",
            "Preparing to unpack .../01-libicu63_63.1-6+deb10u3_amd64.deb ...\n",
            "Unpacking libicu63:amd64 (63.1-6+deb10u3) ...\n",
            "Selecting previously unselected package libjpeg62-turbo:amd64.\n",
            "Preparing to unpack .../02-libjpeg62-turbo_1%3a1.5.2-2+deb10u1_amd64.deb ...\n",
            "Unpacking libjpeg62-turbo:amd64 (1:1.5.2-2+deb10u1) ...\n",
            "Selecting previously unselected package libre2-5:amd64.\n",
            "Preparing to unpack .../03-libre2-5_20200101+dfsg-1build1_amd64.deb ...\n",
            "Unpacking libre2-5:amd64 (20200101+dfsg-1build1) ...\n",
            "Selecting previously unselected package libvpx5:amd64.\n",
            "Preparing to unpack .../04-libvpx5_1.7.0-3+deb10u1_amd64.deb ...\n",
            "Unpacking libvpx5:amd64 (1.7.0-3+deb10u1) ...\n",
            "Selecting previously unselected package libxxf86dga1:amd64.\n",
            "Preparing to unpack .../05-libxxf86dga1_2%3a1.1.5-0ubuntu1_amd64.deb ...\n",
            "Unpacking libxxf86dga1:amd64 (2:1.1.5-0ubuntu1) ...\n",
            "Selecting previously unselected package x11-utils.\n",
            "Preparing to unpack .../06-x11-utils_7.7+5_amd64.deb ...\n",
            "Unpacking x11-utils (7.7+5) ...\n",
            "Selecting previously unselected package chromium-common.\n",
            "Preparing to unpack .../07-chromium-common_90.0.4430.212-1~deb10u1_amd64.deb ...\n",
            "Unpacking chromium-common (90.0.4430.212-1~deb10u1) ...\n",
            "Selecting previously unselected package chromium.\n",
            "Preparing to unpack .../08-chromium_90.0.4430.212-1~deb10u1_amd64.deb ...\n",
            "Unpacking chromium (90.0.4430.212-1~deb10u1) ...\n",
            "Selecting previously unselected package chromium-driver.\n",
            "Preparing to unpack .../09-chromium-driver_90.0.4430.212-1~deb10u1_amd64.deb ...\n",
            "Unpacking chromium-driver (90.0.4430.212-1~deb10u1) ...\n",
            "Selecting previously unselected package chromium-sandbox.\n",
            "Preparing to unpack .../10-chromium-sandbox_90.0.4430.212-1~deb10u1_amd64.deb ...\n",
            "Unpacking chromium-sandbox (90.0.4430.212-1~deb10u1) ...\n",
            "Selecting previously unselected package libplist3:amd64.\n",
            "Preparing to unpack .../11-libplist3_2.1.0-4build2_amd64.deb ...\n",
            "Unpacking libplist3:amd64 (2.1.0-4build2) ...\n",
            "Selecting previously unselected package libusbmuxd6:amd64.\n",
            "Preparing to unpack .../12-libusbmuxd6_2.0.1-2_amd64.deb ...\n",
            "Unpacking libusbmuxd6:amd64 (2.0.1-2) ...\n",
            "Selecting previously unselected package libimobiledevice6:amd64.\n",
            "Preparing to unpack .../13-libimobiledevice6_1.2.1~git20191129.9f79242-1build1_amd64.deb ...\n",
            "Unpacking libimobiledevice6:amd64 (1.2.1~git20191129.9f79242-1build1) ...\n",
            "Selecting previously unselected package libu2f-udev.\n",
            "Preparing to unpack .../14-libu2f-udev_1.1.10-1_all.deb ...\n",
            "Unpacking libu2f-udev (1.1.10-1) ...\n",
            "Selecting previously unselected package upower.\n",
            "Preparing to unpack .../15-upower_0.99.11-1build2_amd64.deb ...\n",
            "Unpacking upower (0.99.11-1build2) ...\n",
            "Selecting previously unselected package usbmuxd.\n",
            "Preparing to unpack .../16-usbmuxd_1.1.1~git20191130.9af2b12-1_amd64.deb ...\n",
            "Unpacking usbmuxd (1.1.1~git20191130.9af2b12-1) ...\n",
            "Setting up libplist3:amd64 (2.1.0-4build2) ...\n",
            "Setting up libu2f-udev (1.1.10-1) ...\n",
            "Failed to send reload request: No such file or directory\n",
            "Setting up libxxf86dga1:amd64 (2:1.1.5-0ubuntu1) ...\n",
            "Setting up chromium-sandbox (90.0.4430.212-1~deb10u1) ...\n",
            "Setting up libicu63:amd64 (63.1-6+deb10u3) ...\n",
            "Setting up libjpeg62-turbo:amd64 (1:1.5.2-2+deb10u1) ...\n",
            "Setting up libevent-2.1-6:amd64 (2.1.8-stable-4) ...\n",
            "Setting up libusbmuxd6:amd64 (2.0.1-2) ...\n",
            "Setting up x11-utils (7.7+5) ...\n",
            "Setting up libre2-5:amd64 (20200101+dfsg-1build1) ...\n",
            "Setting up chromium-common (90.0.4430.212-1~deb10u1) ...\n",
            "Setting up libimobiledevice6:amd64 (1.2.1~git20191129.9f79242-1build1) ...\n",
            "Setting up libvpx5:amd64 (1.7.0-3+deb10u1) ...\n",
            "Setting up upower (0.99.11-1build2) ...\n",
            "Setting up usbmuxd (1.1.1~git20191130.9af2b12-1) ...\n",
            "Warning: The home dir /var/lib/usbmux you specified can't be accessed: No such file or directory\n",
            "Adding system user `usbmux' (UID 107) ...\n",
            "Adding new user `usbmux' (UID 107) with group `plugdev' ...\n",
            "Not creating home directory `/var/lib/usbmux'.\n",
            "Setting up chromium (90.0.4430.212-1~deb10u1) ...\n",
            "update-alternatives: using /usr/bin/chromium to provide /usr/bin/x-www-browser (x-www-browser) in auto mode\n",
            "update-alternatives: using /usr/bin/chromium to provide /usr/bin/gnome-www-browser (gnome-www-browser) in auto mode\n",
            "Setting up chromium-driver (90.0.4430.212-1~deb10u1) ...\n",
            "Processing triggers for man-db (2.9.1-1) ...\n",
            "Processing triggers for dbus (1.12.16-2ubuntu2.3) ...\n",
            "Processing triggers for mime-support (3.64ubuntu1) ...\n",
            "Processing triggers for hicolor-icon-theme (0.17-2) ...\n",
            "Processing triggers for libc-bin (2.31-0ubuntu9.9) ...\n",
            "Reading package lists... Done\n",
            "Building dependency tree       \n",
            "Reading state information... Done\n",
            "The following package was automatically installed and is no longer required:\n",
            "  libnvidia-common-510\n",
            "Use 'sudo apt autoremove' to remove it.\n",
            "The following additional packages will be installed:\n",
            "  apparmor liblzo2-2 squashfs-tools\n",
            "Suggested packages:\n",
            "  apparmor-profiles-extra apparmor-utils\n",
            "The following NEW packages will be installed:\n",
            "  apparmor liblzo2-2 snapd squashfs-tools\n",
            "0 upgraded, 4 newly installed, 0 to remove and 28 not upgraded.\n",
            "Need to get 38.5 MB of archives.\n",
            "After this operation, 173 MB of additional disk space will be used.\n",
            "Get:1 http://archive.ubuntu.com/ubuntu focal-updates/main amd64 apparmor amd64 2.13.3-7ubuntu5.1 [494 kB]\n",
            "Get:2 http://archive.ubuntu.com/ubuntu focal/main amd64 liblzo2-2 amd64 2.10-2 [50.8 kB]\n",
            "Get:3 http://archive.ubuntu.com/ubuntu focal-updates/main amd64 squashfs-tools amd64 1:4.4-1ubuntu0.3 [117 kB]\n",
            "Get:4 http://archive.ubuntu.com/ubuntu focal-updates/main amd64 snapd amd64 2.58+20.04 [37.9 MB]\n",
            "Fetched 38.5 MB in 4s (10.4 MB/s)\n",
            "debconf: unable to initialize frontend: Dialog\n",
            "debconf: (No usable dialog-like program is installed, so the dialog based frontend cannot be used. at /usr/share/perl5/Debconf/FrontEnd/Dialog.pm line 76, <> line 4.)\n",
            "debconf: falling back to frontend: Readline\n",
            "debconf: unable to initialize frontend: Readline\n",
            "debconf: (This frontend requires a controlling tty.)\n",
            "debconf: falling back to frontend: Teletype\n",
            "dpkg-preconfigure: unable to re-open stdin: \n",
            "Selecting previously unselected package apparmor.\n",
            "(Reading database ... 128311 files and directories currently installed.)\n",
            "Preparing to unpack .../apparmor_2.13.3-7ubuntu5.1_amd64.deb ...\n",
            "Unpacking apparmor (2.13.3-7ubuntu5.1) ...\n",
            "Selecting previously unselected package liblzo2-2:amd64.\n",
            "Preparing to unpack .../liblzo2-2_2.10-2_amd64.deb ...\n",
            "Unpacking liblzo2-2:amd64 (2.10-2) ...\n",
            "Selecting previously unselected package squashfs-tools.\n",
            "Preparing to unpack .../squashfs-tools_1%3a4.4-1ubuntu0.3_amd64.deb ...\n",
            "Unpacking squashfs-tools (1:4.4-1ubuntu0.3) ...\n",
            "Selecting previously unselected package snapd.\n",
            "Preparing to unpack .../snapd_2.58+20.04_amd64.deb ...\n",
            "Unpacking snapd (2.58+20.04) ...\n",
            "Setting up liblzo2-2:amd64 (2.10-2) ...\n",
            "Setting up apparmor (2.13.3-7ubuntu5.1) ...\n",
            "debconf: unable to initialize frontend: Dialog\n",
            "debconf: (No usable dialog-like program is installed, so the dialog based frontend cannot be used. at /usr/share/perl5/Debconf/FrontEnd/Dialog.pm line 76.)\n",
            "debconf: falling back to frontend: Readline\n",
            "Created symlink /etc/systemd/system/sysinit.target.wants/apparmor.service → /lib/systemd/system/apparmor.service.\n",
            "Setting up squashfs-tools (1:4.4-1ubuntu0.3) ...\n",
            "Setting up snapd (2.58+20.04) ...\n",
            "Created symlink /etc/systemd/system/multi-user.target.wants/snapd.aa-prompt-listener.service → /lib/systemd/system/snapd.aa-prompt-listener.service.\n",
            "Created symlink /etc/systemd/system/multi-user.target.wants/snapd.apparmor.service → /lib/systemd/system/snapd.apparmor.service.\n",
            "Created symlink /etc/systemd/system/multi-user.target.wants/snapd.autoimport.service → /lib/systemd/system/snapd.autoimport.service.\n",
            "Created symlink /etc/systemd/system/multi-user.target.wants/snapd.core-fixup.service → /lib/systemd/system/snapd.core-fixup.service.\n",
            "Created symlink /etc/systemd/system/multi-user.target.wants/snapd.recovery-chooser-trigger.service → /lib/systemd/system/snapd.recovery-chooser-trigger.service.\n",
            "Created symlink /etc/systemd/system/multi-user.target.wants/snapd.seeded.service → /lib/systemd/system/snapd.seeded.service.\n",
            "Created symlink /etc/systemd/system/cloud-final.service.wants/snapd.seeded.service → /lib/systemd/system/snapd.seeded.service.\n",
            "Created symlink /etc/systemd/system/multi-user.target.wants/snapd.service → /lib/systemd/system/snapd.service.\n",
            "Created symlink /etc/systemd/system/timers.target.wants/snapd.snap-repair.timer → /lib/systemd/system/snapd.snap-repair.timer.\n",
            "Created symlink /etc/systemd/system/sockets.target.wants/snapd.socket → /lib/systemd/system/snapd.socket.\n",
            "Created symlink /etc/systemd/system/final.target.wants/snapd.system-shutdown.service → /lib/systemd/system/snapd.system-shutdown.service.\n",
            "Processing triggers for libc-bin (2.31-0ubuntu9.9) ...\n",
            "Processing triggers for systemd (245.4-4ubuntu3.19) ...\n",
            "Processing triggers for man-db (2.9.1-1) ...\n",
            "Processing triggers for dbus (1.12.16-2ubuntu2.3) ...\n",
            "Processing triggers for mime-support (3.64ubuntu1) ...\n"
          ]
        },
        {
          "output_type": "execute_result",
          "data": {
            "text/plain": []
          },
          "metadata": {},
          "execution_count": 1
        }
      ]
    },
    {
      "cell_type": "code",
      "execution_count": null,
      "metadata": {
        "colab": {
          "base_uri": "https://localhost:8080/"
        },
        "id": "9q199R05wP5B",
        "outputId": "d7a65a08-5180-4fb6-e80d-5f682032359b"
      },
      "outputs": [
        {
          "output_type": "stream",
          "name": "stdout",
          "text": [
            "Looking in indexes: https://pypi.org/simple, https://us-python.pkg.dev/colab-wheels/public/simple/\n",
            "Collecting selenium-wire\n",
            "  Downloading selenium_wire-5.1.0-py3-none-any.whl (239 kB)\n",
            "\u001b[2K     \u001b[90m━━━━━━━━━━━━━━━━━━━━━━━━━━━━━━━━━━━━━━━\u001b[0m \u001b[32m239.6/239.6 KB\u001b[0m \u001b[31m6.3 MB/s\u001b[0m eta \u001b[36m0:00:00\u001b[0m\n",
            "\u001b[?25hRequirement already satisfied: pyparsing>=2.4.2 in /usr/local/lib/python3.8/dist-packages (from selenium-wire) (3.0.9)\n",
            "Collecting h2>=4.0\n",
            "  Downloading h2-4.1.0-py3-none-any.whl (57 kB)\n",
            "\u001b[2K     \u001b[90m━━━━━━━━━━━━━━━━━━━━━━━━━━━━━━━━━━━━━━━━\u001b[0m \u001b[32m57.5/57.5 KB\u001b[0m \u001b[31m6.9 MB/s\u001b[0m eta \u001b[36m0:00:00\u001b[0m\n",
            "\u001b[?25hCollecting zstandard>=0.14.1\n",
            "  Downloading zstandard-0.19.0-cp38-cp38-manylinux_2_17_x86_64.manylinux2014_x86_64.whl (2.5 MB)\n",
            "\u001b[2K     \u001b[90m━━━━━━━━━━━━━━━━━━━━━━━━━━━━━━━━━━━━━━━━\u001b[0m \u001b[32m2.5/2.5 MB\u001b[0m \u001b[31m47.3 MB/s\u001b[0m eta \u001b[36m0:00:00\u001b[0m\n",
            "\u001b[?25hCollecting blinker>=1.4\n",
            "  Downloading blinker-1.5-py2.py3-none-any.whl (12 kB)\n",
            "Collecting hyperframe>=6.0\n",
            "  Downloading hyperframe-6.0.1-py3-none-any.whl (12 kB)\n",
            "Requirement already satisfied: pysocks>=1.7.1 in /usr/local/lib/python3.8/dist-packages (from selenium-wire) (1.7.1)\n",
            "Requirement already satisfied: certifi>=2019.9.11 in /usr/local/lib/python3.8/dist-packages (from selenium-wire) (2022.12.7)\n",
            "Collecting kaitaistruct>=0.7\n",
            "  Downloading kaitaistruct-0.10-py2.py3-none-any.whl (7.0 kB)\n",
            "Requirement already satisfied: pyasn1>=0.3.1 in /usr/local/lib/python3.8/dist-packages (from selenium-wire) (0.4.8)\n",
            "Collecting pyOpenSSL>=22.0.0\n",
            "  Downloading pyOpenSSL-23.0.0-py3-none-any.whl (57 kB)\n",
            "\u001b[2K     \u001b[90m━━━━━━━━━━━━━━━━━━━━━━━━━━━━━━━━━━━━━━━━\u001b[0m \u001b[32m57.3/57.3 KB\u001b[0m \u001b[31m6.1 MB/s\u001b[0m eta \u001b[36m0:00:00\u001b[0m\n",
            "\u001b[?25hCollecting selenium>=4.0.0\n",
            "  Downloading selenium-4.8.0-py3-none-any.whl (6.3 MB)\n",
            "\u001b[2K     \u001b[90m━━━━━━━━━━━━━━━━━━━━━━━━━━━━━━━━━━━━━━━━\u001b[0m \u001b[32m6.3/6.3 MB\u001b[0m \u001b[31m85.9 MB/s\u001b[0m eta \u001b[36m0:00:00\u001b[0m\n",
            "\u001b[?25hCollecting wsproto>=0.14\n",
            "  Downloading wsproto-1.2.0-py3-none-any.whl (24 kB)\n",
            "Collecting brotli>=1.0.9\n",
            "  Downloading Brotli-1.0.9-cp38-cp38-manylinux1_x86_64.whl (357 kB)\n",
            "\u001b[2K     \u001b[90m━━━━━━━━━━━━━━━━━━━━━━━━━━━━━━━━━━━━━━\u001b[0m \u001b[32m357.2/357.2 KB\u001b[0m \u001b[31m33.1 MB/s\u001b[0m eta \u001b[36m0:00:00\u001b[0m\n",
            "\u001b[?25hCollecting hpack<5,>=4.0\n",
            "  Downloading hpack-4.0.0-py3-none-any.whl (32 kB)\n",
            "Collecting cryptography<40,>=38.0.0\n",
            "  Downloading cryptography-39.0.1-cp36-abi3-manylinux_2_28_x86_64.whl (4.2 MB)\n",
            "\u001b[2K     \u001b[90m━━━━━━━━━━━━━━━━━━━━━━━━━━━━━━━━━━━━━━━━\u001b[0m \u001b[32m4.2/4.2 MB\u001b[0m \u001b[31m85.8 MB/s\u001b[0m eta \u001b[36m0:00:00\u001b[0m\n",
            "\u001b[?25hCollecting trio~=0.17\n",
            "  Downloading trio-0.22.0-py3-none-any.whl (384 kB)\n",
            "\u001b[2K     \u001b[90m━━━━━━━━━━━━━━━━━━━━━━━━━━━━━━━━━━━━━━\u001b[0m \u001b[32m384.9/384.9 KB\u001b[0m \u001b[31m35.0 MB/s\u001b[0m eta \u001b[36m0:00:00\u001b[0m\n",
            "\u001b[?25hCollecting urllib3[socks]~=1.26\n",
            "  Downloading urllib3-1.26.14-py2.py3-none-any.whl (140 kB)\n",
            "\u001b[2K     \u001b[90m━━━━━━━━━━━━━━━━━━━━━━━━━━━━━━━━━━━━━━\u001b[0m \u001b[32m140.6/140.6 KB\u001b[0m \u001b[31m16.2 MB/s\u001b[0m eta \u001b[36m0:00:00\u001b[0m\n",
            "\u001b[?25hCollecting trio-websocket~=0.9\n",
            "  Downloading trio_websocket-0.9.2-py3-none-any.whl (16 kB)\n",
            "Collecting h11<1,>=0.9.0\n",
            "  Downloading h11-0.14.0-py3-none-any.whl (58 kB)\n",
            "\u001b[2K     \u001b[90m━━━━━━━━━━━━━━━━━━━━━━━━━━━━━━━━━━━━━━━━\u001b[0m \u001b[32m58.3/58.3 KB\u001b[0m \u001b[31m7.2 MB/s\u001b[0m eta \u001b[36m0:00:00\u001b[0m\n",
            "\u001b[?25hRequirement already satisfied: cffi>=1.12 in /usr/local/lib/python3.8/dist-packages (from cryptography<40,>=38.0.0->pyOpenSSL>=22.0.0->selenium-wire) (1.15.1)\n",
            "Collecting outcome\n",
            "  Downloading outcome-1.2.0-py2.py3-none-any.whl (9.7 kB)\n",
            "Requirement already satisfied: idna in /usr/local/lib/python3.8/dist-packages (from trio~=0.17->selenium>=4.0.0->selenium-wire) (2.10)\n",
            "Requirement already satisfied: attrs>=19.2.0 in /usr/local/lib/python3.8/dist-packages (from trio~=0.17->selenium>=4.0.0->selenium-wire) (22.2.0)\n",
            "Requirement already satisfied: sortedcontainers in /usr/local/lib/python3.8/dist-packages (from trio~=0.17->selenium>=4.0.0->selenium-wire) (2.4.0)\n",
            "Collecting async-generator>=1.9\n",
            "  Downloading async_generator-1.10-py3-none-any.whl (18 kB)\n",
            "Collecting exceptiongroup>=1.0.0rc9\n",
            "  Downloading exceptiongroup-1.1.0-py3-none-any.whl (14 kB)\n",
            "Collecting sniffio\n",
            "  Downloading sniffio-1.3.0-py3-none-any.whl (10 kB)\n",
            "Requirement already satisfied: pycparser in /usr/local/lib/python3.8/dist-packages (from cffi>=1.12->cryptography<40,>=38.0.0->pyOpenSSL>=22.0.0->selenium-wire) (2.21)\n",
            "Installing collected packages: brotli, zstandard, urllib3, sniffio, outcome, kaitaistruct, hyperframe, hpack, h11, exceptiongroup, blinker, async-generator, wsproto, trio, h2, cryptography, trio-websocket, pyOpenSSL, selenium, selenium-wire\n",
            "  Attempting uninstall: urllib3\n",
            "    Found existing installation: urllib3 1.24.3\n",
            "    Uninstalling urllib3-1.24.3:\n",
            "      Successfully uninstalled urllib3-1.24.3\n",
            "Successfully installed async-generator-1.10 blinker-1.5 brotli-1.0.9 cryptography-39.0.1 exceptiongroup-1.1.0 h11-0.14.0 h2-4.1.0 hpack-4.0.0 hyperframe-6.0.1 kaitaistruct-0.10 outcome-1.2.0 pyOpenSSL-23.0.0 selenium-4.8.0 selenium-wire-5.1.0 sniffio-1.3.0 trio-0.22.0 trio-websocket-0.9.2 urllib3-1.26.14 wsproto-1.2.0 zstandard-0.19.0\n"
          ]
        }
      ],
      "source": [
        "!pip install selenium-wire\n",
        "\n",
        "# Load selenium components\n",
        "from seleniumwire import webdriver\n",
        "from selenium.webdriver.common.by import By\n",
        "from selenium.webdriver.support.ui import WebDriverWait, Select\n",
        "from selenium.webdriver.support import expected_conditions as EC\n",
        "from selenium.common.exceptions import TimeoutException\n",
        "from selenium.webdriver.common.desired_capabilities import DesiredCapabilities\n",
        "from selenium.webdriver.common.action_chains import ActionChains\n",
        "from selenium.common.exceptions import TimeoutException"
      ]
    },
    {
      "cell_type": "code",
      "source": [
        "# load other crucial libraries\n",
        "from bs4 import BeautifulSoup\n",
        "import requests as req\n",
        "import time\n",
        "import re\n",
        "import matplotlib.pyplot as plt\n",
        "import seaborn as sns\n",
        "import pandas as pd\n",
        "import numpy as np\n",
        "import ast\n",
        "import traceback\n",
        "import pprint\n",
        "import gzip\n",
        "import json\n"
      ],
      "metadata": {
        "id": "Ewn705OPU9tu"
      },
      "execution_count": 1,
      "outputs": []
    },
    {
      "cell_type": "markdown",
      "source": [
        "#2.Chrome Driver Set up\n",
        "\n"
      ],
      "metadata": {
        "id": "cVgCBEhAci5C"
      }
    },
    {
      "cell_type": "code",
      "source": [
        "# set up chrome driver\n",
        "def driversetup():\n",
        "    caps = DesiredCapabilities().CHROME\n",
        "    #caps[\"pageLoadStrategy\"] = \"normal\"  #  Waits for full page load\n",
        "    caps[\"pageLoadStrategy\"] = \"eager\"  #  Waits for page to be interactive\n",
        "    #caps[\"pageLoadStrategy\"] = \"none\"   # Do not wait for full page load\n",
        "    options = webdriver.ChromeOptions()\n",
        "    #run Selenium in headless mode\n",
        "    options.add_argument('--headless')\n",
        "    options.add_argument('--no-sandbox')\n",
        "    #overcome limited resource problems\n",
        "    options.add_argument('--disable-dev-shm-usage')\n",
        "    options.add_argument(\"lang=en\")\n",
        "    #open Browser with set window size\n",
        "    options.add_argument(\"--window-size=1920,1080\")\n",
        "    #disable infobars\n",
        "    options.add_argument(\"disable-infobars\")\n",
        "    #disable extension\n",
        "    options.add_argument(\"--disable-extensions\")\n",
        "    options.add_argument(\"--incognito\")\n",
        "    options.add_argument(\"--disable-blink-features=AutomationControlled\")\n",
        "    # add user agent\n",
        "    options.add_argument('--user-agent=\"Mozilla/5.0 (Windows NT 10.0; Win64; x64) AppleWebKit/537.36 (KHTML, like Gecko) Chrome/83.0.4103.106 Safari/537.36\"')\n",
        "    driver = webdriver.Chrome(desired_capabilities=caps,executable_path=\"/usr/bin/chromedriver\",options=options)\n",
        "    \n",
        "    return driver\n"
      ],
      "metadata": {
        "id": "kZrYq-Bp1Nb0"
      },
      "execution_count": null,
      "outputs": []
    },
    {
      "cell_type": "markdown",
      "source": [
        "# 3.Function for initial search page driver\n"
      ],
      "metadata": {
        "id": "suDaNbYBmeCY"
      }
    },
    {
      "cell_type": "code",
      "source": [
        "def search_initial_driver(search_term: str, search_type: int):\n",
        "    \"\"\"\n",
        "    Description:\n",
        "      Set up initial driver state of the the search page based on search type and search term\n",
        "    Arguments:\n",
        "      search_term: get the product search term [str object]\n",
        "      search_type: accepts only (1:\"relevance\", 2:\"latest\", 3:\"top_sales\") [int object]\n",
        "    Returns:\n",
        "      final_data: full data of search type relating to search term [pandas dataframe object]\n",
        "    \"\"\"\n",
        "    # initialise base url\n",
        "    url = f\"https://shopee.sg/search?keyword={search_term}&page=0\"\n",
        "    \n",
        "    # appends url based on search type\n",
        "    if search_type == 1:\n",
        "        url += '&sortBy=relevancy'\n",
        "    elif search_type == 2:\n",
        "        url += '&sortBy=ctime'\n",
        "    elif search_type == 3:\n",
        "        url += '&sortBy=sales'\n",
        "    else:\n",
        "        raise Exception(\"Sorry, only numbers between 1-3\")\n",
        "    \n",
        "    # load search url with chrome driver \n",
        "    Driver = driversetup()\n",
        "    Driver.get(url)\n",
        "    \n",
        "    # make sure search result element is loaded before further action\n",
        "    WebDriverWait(Driver, 30).until(EC.visibility_of_element_located((By.CLASS_NAME, \"shopee-search-item-result\")))\n",
        "    \n",
        "    # execute smooth scrolling so that all elements are loaded successfully since they are dynamically loaded\n",
        "    Driver.execute_script(\"window.scrollTo({top: document.body.scrollHeight, behavior: 'smooth'});\")\n",
        "    \n",
        "    # gets number of search pages for later processing\n",
        "    NumPages = int(Driver.find_element(By.CLASS_NAME, 'shopee-mini-page-controller__total').text)\n",
        "    \n",
        "    return (Driver,NumPages)"
      ],
      "metadata": {
        "id": "LYqt0y0RmnoT"
      },
      "execution_count": null,
      "outputs": []
    },
    {
      "cell_type": "markdown",
      "source": [
        "# Set Search Parameters\n",
        "\n"
      ],
      "metadata": {
        "id": "XHzu6tCjxrEx"
      }
    },
    {
      "cell_type": "markdown",
      "source": [
        " ## ❗ [**Re-run from here if any issues pops up below**] ❗\n",
        "\n",
        "\n"
      ],
      "metadata": {
        "id": "ZJWrOtErLw32"
      }
    },
    {
      "cell_type": "code",
      "source": [
        "search_term = 'sneakers'\n",
        "search_type = 3\n",
        "search = search_initial_driver(search_term,search_type)"
      ],
      "metadata": {
        "id": "y7RqmU7Sn112",
        "colab": {
          "base_uri": "https://localhost:8080/",
          "height": 345
        },
        "outputId": "1622829d-a260-409a-88ef-c267c4a27c05"
      },
      "execution_count": null,
      "outputs": [
        {
          "output_type": "error",
          "ename": "WebDriverException",
          "evalue": "ignored",
          "traceback": [
            "\u001b[0;31m---------------------------------------------------------------------------\u001b[0m",
            "\u001b[0;31mWebDriverException\u001b[0m                        Traceback (most recent call last)",
            "\u001b[0;32m<ipython-input-5-984a0c4c1ef5>\u001b[0m in \u001b[0;36m<module>\u001b[0;34m\u001b[0m\n\u001b[1;32m      1\u001b[0m \u001b[0msearch_term\u001b[0m \u001b[0;34m=\u001b[0m \u001b[0;34m'sneakers'\u001b[0m\u001b[0;34m\u001b[0m\u001b[0;34m\u001b[0m\u001b[0m\n\u001b[1;32m      2\u001b[0m \u001b[0msearch_type\u001b[0m \u001b[0;34m=\u001b[0m \u001b[0;36m3\u001b[0m\u001b[0;34m\u001b[0m\u001b[0;34m\u001b[0m\u001b[0m\n\u001b[0;32m----> 3\u001b[0;31m \u001b[0msearch\u001b[0m \u001b[0;34m=\u001b[0m \u001b[0msearch_initial_driver\u001b[0m\u001b[0;34m(\u001b[0m\u001b[0msearch_term\u001b[0m\u001b[0;34m,\u001b[0m\u001b[0msearch_type\u001b[0m\u001b[0;34m)\u001b[0m\u001b[0;34m\u001b[0m\u001b[0;34m\u001b[0m\u001b[0m\n\u001b[0m",
            "\u001b[0;32m<ipython-input-4-956e6675d0be>\u001b[0m in \u001b[0;36msearch_initial_driver\u001b[0;34m(search_term, search_type)\u001b[0m\n\u001b[1;32m     23\u001b[0m \u001b[0;34m\u001b[0m\u001b[0m\n\u001b[1;32m     24\u001b[0m     \u001b[0;31m# load search url with chrome driver\u001b[0m\u001b[0;34m\u001b[0m\u001b[0;34m\u001b[0m\u001b[0;34m\u001b[0m\u001b[0m\n\u001b[0;32m---> 25\u001b[0;31m     \u001b[0mDriver\u001b[0m \u001b[0;34m=\u001b[0m \u001b[0mdriversetup\u001b[0m\u001b[0;34m(\u001b[0m\u001b[0;34m)\u001b[0m\u001b[0;34m\u001b[0m\u001b[0;34m\u001b[0m\u001b[0m\n\u001b[0m\u001b[1;32m     26\u001b[0m     \u001b[0mDriver\u001b[0m\u001b[0;34m.\u001b[0m\u001b[0mget\u001b[0m\u001b[0;34m(\u001b[0m\u001b[0murl\u001b[0m\u001b[0;34m)\u001b[0m\u001b[0;34m\u001b[0m\u001b[0;34m\u001b[0m\u001b[0m\n\u001b[1;32m     27\u001b[0m \u001b[0;34m\u001b[0m\u001b[0m\n",
            "\u001b[0;32m<ipython-input-3-8eb4b03aa12d>\u001b[0m in \u001b[0;36mdriversetup\u001b[0;34m()\u001b[0m\n\u001b[1;32m     17\u001b[0m     \u001b[0moptions\u001b[0m\u001b[0;34m.\u001b[0m\u001b[0madd_argument\u001b[0m\u001b[0;34m(\u001b[0m\u001b[0;34m\"--disable-blink-features=AutomationControlled\"\u001b[0m\u001b[0;34m)\u001b[0m\u001b[0;34m\u001b[0m\u001b[0;34m\u001b[0m\u001b[0m\n\u001b[1;32m     18\u001b[0m \u001b[0;34m\u001b[0m\u001b[0m\n\u001b[0;32m---> 19\u001b[0;31m     \u001b[0mdriver\u001b[0m \u001b[0;34m=\u001b[0m \u001b[0mwebdriver\u001b[0m\u001b[0;34m.\u001b[0m\u001b[0mChrome\u001b[0m\u001b[0;34m(\u001b[0m\u001b[0moptions\u001b[0m\u001b[0;34m=\u001b[0m\u001b[0moptions\u001b[0m\u001b[0;34m)\u001b[0m\u001b[0;34m\u001b[0m\u001b[0;34m\u001b[0m\u001b[0m\n\u001b[0m\u001b[1;32m     20\u001b[0m \u001b[0;34m\u001b[0m\u001b[0m\n\u001b[1;32m     21\u001b[0m     \u001b[0;32mreturn\u001b[0m \u001b[0mdriver\u001b[0m\u001b[0;34m\u001b[0m\u001b[0;34m\u001b[0m\u001b[0m\n",
            "\u001b[0;32m/usr/local/lib/python3.8/dist-packages/seleniumwire/webdriver.py\u001b[0m in \u001b[0;36m__init__\u001b[0;34m(self, seleniumwire_options, *args, **kwargs)\u001b[0m\n\u001b[1;32m    216\u001b[0m                 \u001b[0mcaps\u001b[0m\u001b[0;34m.\u001b[0m\u001b[0mupdate\u001b[0m\u001b[0;34m(\u001b[0m\u001b[0mconfig\u001b[0m\u001b[0;34m)\u001b[0m\u001b[0;34m\u001b[0m\u001b[0;34m\u001b[0m\u001b[0m\n\u001b[1;32m    217\u001b[0m \u001b[0;34m\u001b[0m\u001b[0m\n\u001b[0;32m--> 218\u001b[0;31m         \u001b[0msuper\u001b[0m\u001b[0;34m(\u001b[0m\u001b[0;34m)\u001b[0m\u001b[0;34m.\u001b[0m\u001b[0m__init__\u001b[0m\u001b[0;34m(\u001b[0m\u001b[0;34m*\u001b[0m\u001b[0margs\u001b[0m\u001b[0;34m,\u001b[0m \u001b[0;34m**\u001b[0m\u001b[0mkwargs\u001b[0m\u001b[0;34m)\u001b[0m\u001b[0;34m\u001b[0m\u001b[0;34m\u001b[0m\u001b[0m\n\u001b[0m\u001b[1;32m    219\u001b[0m \u001b[0;34m\u001b[0m\u001b[0m\n\u001b[1;32m    220\u001b[0m \u001b[0;34m\u001b[0m\u001b[0m\n",
            "\u001b[0;32m/usr/local/lib/python3.8/dist-packages/selenium/webdriver/chrome/webdriver.py\u001b[0m in \u001b[0;36m__init__\u001b[0;34m(self, executable_path, port, options, service_args, desired_capabilities, service_log_path, chrome_options, service, keep_alive)\u001b[0m\n\u001b[1;32m     78\u001b[0m             \u001b[0mservice\u001b[0m \u001b[0;34m=\u001b[0m \u001b[0mService\u001b[0m\u001b[0;34m(\u001b[0m\u001b[0mexecutable_path\u001b[0m\u001b[0;34m,\u001b[0m \u001b[0mport\u001b[0m\u001b[0;34m,\u001b[0m \u001b[0mservice_args\u001b[0m\u001b[0;34m,\u001b[0m \u001b[0mservice_log_path\u001b[0m\u001b[0;34m)\u001b[0m\u001b[0;34m\u001b[0m\u001b[0;34m\u001b[0m\u001b[0m\n\u001b[1;32m     79\u001b[0m \u001b[0;34m\u001b[0m\u001b[0m\n\u001b[0;32m---> 80\u001b[0;31m         super().__init__(\n\u001b[0m\u001b[1;32m     81\u001b[0m             \u001b[0mDesiredCapabilities\u001b[0m\u001b[0;34m.\u001b[0m\u001b[0mCHROME\u001b[0m\u001b[0;34m[\u001b[0m\u001b[0;34m\"browserName\"\u001b[0m\u001b[0;34m]\u001b[0m\u001b[0;34m,\u001b[0m\u001b[0;34m\u001b[0m\u001b[0;34m\u001b[0m\u001b[0m\n\u001b[1;32m     82\u001b[0m             \u001b[0;34m\"goog\"\u001b[0m\u001b[0;34m,\u001b[0m\u001b[0;34m\u001b[0m\u001b[0;34m\u001b[0m\u001b[0m\n",
            "\u001b[0;32m/usr/local/lib/python3.8/dist-packages/selenium/webdriver/chromium/webdriver.py\u001b[0m in \u001b[0;36m__init__\u001b[0;34m(self, browser_name, vendor_prefix, port, options, service_args, desired_capabilities, service_log_path, service, keep_alive)\u001b[0m\n\u001b[1;32m     99\u001b[0m \u001b[0;34m\u001b[0m\u001b[0m\n\u001b[1;32m    100\u001b[0m         \u001b[0mself\u001b[0m\u001b[0;34m.\u001b[0m\u001b[0mservice\u001b[0m \u001b[0;34m=\u001b[0m \u001b[0mservice\u001b[0m\u001b[0;34m\u001b[0m\u001b[0;34m\u001b[0m\u001b[0m\n\u001b[0;32m--> 101\u001b[0;31m         \u001b[0mself\u001b[0m\u001b[0;34m.\u001b[0m\u001b[0mservice\u001b[0m\u001b[0;34m.\u001b[0m\u001b[0mstart\u001b[0m\u001b[0;34m(\u001b[0m\u001b[0;34m)\u001b[0m\u001b[0;34m\u001b[0m\u001b[0;34m\u001b[0m\u001b[0m\n\u001b[0m\u001b[1;32m    102\u001b[0m \u001b[0;34m\u001b[0m\u001b[0m\n\u001b[1;32m    103\u001b[0m         \u001b[0;32mtry\u001b[0m\u001b[0;34m:\u001b[0m\u001b[0;34m\u001b[0m\u001b[0;34m\u001b[0m\u001b[0m\n",
            "\u001b[0;32m/usr/local/lib/python3.8/dist-packages/selenium/webdriver/common/service.py\u001b[0m in \u001b[0;36mstart\u001b[0;34m(self)\u001b[0m\n\u001b[1;32m    102\u001b[0m         \u001b[0mcount\u001b[0m \u001b[0;34m=\u001b[0m \u001b[0;36m0\u001b[0m\u001b[0;34m\u001b[0m\u001b[0;34m\u001b[0m\u001b[0m\n\u001b[1;32m    103\u001b[0m         \u001b[0;32mwhile\u001b[0m \u001b[0;32mTrue\u001b[0m\u001b[0;34m:\u001b[0m\u001b[0;34m\u001b[0m\u001b[0;34m\u001b[0m\u001b[0m\n\u001b[0;32m--> 104\u001b[0;31m             \u001b[0mself\u001b[0m\u001b[0;34m.\u001b[0m\u001b[0massert_process_still_running\u001b[0m\u001b[0;34m(\u001b[0m\u001b[0;34m)\u001b[0m\u001b[0;34m\u001b[0m\u001b[0;34m\u001b[0m\u001b[0m\n\u001b[0m\u001b[1;32m    105\u001b[0m             \u001b[0;32mif\u001b[0m \u001b[0mself\u001b[0m\u001b[0;34m.\u001b[0m\u001b[0mis_connectable\u001b[0m\u001b[0;34m(\u001b[0m\u001b[0;34m)\u001b[0m\u001b[0;34m:\u001b[0m\u001b[0;34m\u001b[0m\u001b[0;34m\u001b[0m\u001b[0m\n\u001b[1;32m    106\u001b[0m                 \u001b[0;32mbreak\u001b[0m\u001b[0;34m\u001b[0m\u001b[0;34m\u001b[0m\u001b[0m\n",
            "\u001b[0;32m/usr/local/lib/python3.8/dist-packages/selenium/webdriver/common/service.py\u001b[0m in \u001b[0;36massert_process_still_running\u001b[0;34m(self)\u001b[0m\n\u001b[1;32m    115\u001b[0m         \u001b[0mreturn_code\u001b[0m \u001b[0;34m=\u001b[0m \u001b[0mself\u001b[0m\u001b[0;34m.\u001b[0m\u001b[0mprocess\u001b[0m\u001b[0;34m.\u001b[0m\u001b[0mpoll\u001b[0m\u001b[0;34m(\u001b[0m\u001b[0;34m)\u001b[0m\u001b[0;34m\u001b[0m\u001b[0;34m\u001b[0m\u001b[0m\n\u001b[1;32m    116\u001b[0m         \u001b[0;32mif\u001b[0m \u001b[0mreturn_code\u001b[0m\u001b[0;34m:\u001b[0m\u001b[0;34m\u001b[0m\u001b[0;34m\u001b[0m\u001b[0m\n\u001b[0;32m--> 117\u001b[0;31m             \u001b[0;32mraise\u001b[0m \u001b[0mWebDriverException\u001b[0m\u001b[0;34m(\u001b[0m\u001b[0;34mf\"Service {self.path} unexpectedly exited. Status code was: {return_code}\"\u001b[0m\u001b[0;34m)\u001b[0m\u001b[0;34m\u001b[0m\u001b[0;34m\u001b[0m\u001b[0m\n\u001b[0m\u001b[1;32m    118\u001b[0m \u001b[0;34m\u001b[0m\u001b[0m\n\u001b[1;32m    119\u001b[0m     \u001b[0;32mdef\u001b[0m \u001b[0mis_connectable\u001b[0m\u001b[0;34m(\u001b[0m\u001b[0mself\u001b[0m\u001b[0;34m)\u001b[0m \u001b[0;34m->\u001b[0m \u001b[0mbool\u001b[0m\u001b[0;34m:\u001b[0m\u001b[0;34m\u001b[0m\u001b[0;34m\u001b[0m\u001b[0m\n",
            "\u001b[0;31mWebDriverException\u001b[0m: Message: Service chromedriver unexpectedly exited. Status code was: 1\n"
          ]
        }
      ]
    },
    {
      "cell_type": "markdown",
      "source": [
        "# Initialise Search Containers"
      ],
      "metadata": {
        "id": "VKF7oTFvdLWn"
      }
    },
    {
      "cell_type": "markdown",
      "source": [
        "Stores search pages data while looping through pages\n"
      ],
      "metadata": {
        "id": "Luhono3jMz2d"
      }
    },
    {
      "cell_type": "code",
      "source": [
        "# stores search pages data that we Selenium can grab\n",
        "search_array = {'name': [],\n",
        "                'min_price': [],\n",
        "                'max_price' : [],\n",
        "                'rating': [],\n",
        "                'image_link' : [],\n",
        "                'product_link' : [],\n",
        "                'page_num' : []\n",
        "                }"
      ],
      "metadata": {
        "id": "3CqQA4qMdJLu"
      },
      "execution_count": null,
      "outputs": []
    },
    {
      "cell_type": "markdown",
      "source": [
        "Ensure easier referencing & updating of params should Shopee change html structure in future"
      ],
      "metadata": {
        "id": "j_rJLSD6gYBy"
      }
    },
    {
      "cell_type": "code",
      "source": [
        "search_params = {'results': {'tag' :'script', 'id': {'type':'application/ld+json'}},\n",
        "                 'name_id_key': \"['name']\",\n",
        "                 'price_data_key': \"['offers']\",\n",
        "                 'min_price_key': \"['lowPrice']\",\n",
        "                 'min_price_key': \"['highPrice']\",\n",
        "                 'rating_key': \"['ratingValue']\",\n",
        "                 'image_link_key': \"['img']\",\n",
        "                 'product_link_key': \"['link']\"\n",
        "              }\n"
      ],
      "metadata": {
        "id": "0fD3AeHQdFPo"
      },
      "execution_count": null,
      "outputs": []
    },
    {
      "cell_type": "markdown",
      "source": [
        "# 4.Functions For Scraping Summary Page Info"
      ],
      "metadata": {
        "id": "l-9nGohpbot2"
      }
    },
    {
      "cell_type": "markdown",
      "source": [
        "## Create Soup Object Function"
      ],
      "metadata": {
        "id": "SWNVzw5kk-q7"
      }
    },
    {
      "cell_type": "code",
      "source": [
        "def search_soup_result(Driver, result_tag, result_id):\n",
        "    \"\"\"\n",
        "    Description:\n",
        "      Grab all elements with matching tags and ids from html page source\n",
        "    Arguments:\n",
        "      Driver: Driver state of current search page [webdriver object]\n",
        "      result_tag: html tag to search in Driver.page_source [str object]\n",
        "      result_id: id of html tag to search in Driver.page_source [str object]\n",
        "    Returns:\n",
        "      list_elements: list of all data under specified tags found in html page [list object]\n",
        "    \"\"\"\n",
        "    soup = BeautifulSoup(Driver.page_source, 'html.parser')\n",
        "    list_elements = soup.find_all(result_tag,result_id)\n",
        "    return list_elements"
      ],
      "metadata": {
        "id": "rhFyFFjfk9Hf"
      },
      "execution_count": null,
      "outputs": []
    },
    {
      "cell_type": "markdown",
      "source": [
        "## Search data array Function\n"
      ],
      "metadata": {
        "id": "TGaMrzd_1f4X"
      }
    },
    {
      "cell_type": "code",
      "source": [
        "def fill_search_array(search_array, list_elements, page_num):\n",
        "    \"\"\"\n",
        "    Description:\n",
        "      To fill up search_array container with data in list_elements\n",
        "    Arguments:\n",
        "      search_array: get search data placeholder variable [dictionary object]\n",
        "      list_elements: get params required to locate correct data in parsed soup [dictionary object]\n",
        "      page_number: current page number to scrape from [integer object]\n",
        "    \"\"\"\n",
        "    \n",
        "    list_elements = list_elements[6:-5] # removes first 6 and last 5 irrevelant results (other data and ads)\n",
        "    \n",
        "    # fill data in search_array variable\n",
        "    for e in list_elements:\n",
        "        # converts text to dictionary\n",
        "        e = ast.literal_eval(e.text)\n",
        "        \n",
        "        # add product name\n",
        "        search_array['name'].append(e['name'])\n",
        "        \n",
        "        # add product pricing\n",
        "        if 'price' in e['offers'].keys(): \n",
        "            search_array['min_price'].append(float(e['offers']['price']))\n",
        "            search_array['max_price'].append(0.0)\n",
        "        else:\n",
        "            search_array['max_price'].append(float(e['offers']['highPrice']))\n",
        "            search_array['min_price'].append(float(e['offers']['lowPrice']))\n",
        "        \n",
        "        # add product rating\n",
        "        search_array['rating'].append(e['aggregateRating']['ratingValue'] if 'aggregateRating' in e.keys() else 0.0)\n",
        "      \n",
        "        # add product image link\n",
        "        search_array['image_link'].append(e['image'])\n",
        "        \n",
        "        # asdd product page link\n",
        "        search_array['product_link'].append(e['url'])\n",
        "    \n",
        "        # add page number\n",
        "        search_array['page_num'].append(page_num)\n",
        "        "
      ],
      "metadata": {
        "id": "XcdkpHFAFOXI"
      },
      "execution_count": null,
      "outputs": []
    },
    {
      "cell_type": "markdown",
      "source": [
        "## Function to Loop Through ALL Pages of Summary Output Page"
      ],
      "metadata": {
        "id": "qChi1T38tfab"
      }
    },
    {
      "cell_type": "code",
      "source": [
        "def scrape_search_pages(search_array, search_params, Driver, NumPages: int):\n",
        "    \"\"\"\n",
        "    Description:\n",
        "       Loop through and produce data from all search pages based on initial search page driver(1st page)\n",
        "    Arguments:\n",
        "        search_array: get search data placeholder variable [dictionary object]\n",
        "        search_params: get params required to locate correct data in parsed soup [dictionary object]\n",
        "        Driver: get current chrome driver state [webdriver.Chrome(options=options) object]\n",
        "        NumPages: get the required number of times Selenium to click for next page [integer object]\n",
        "    Returns:\n",
        "        search_page: Pandas Dataframe object of all search pages data\n",
        "    \"\"\"\n",
        "    # assign Driver object\n",
        "    Driver =  Driver\n",
        "\n",
        "    # looping to get results from all pages\n",
        "    for num in range(1,NumPages+1): # ensures clicking NumPages-1 times\n",
        "        \n",
        "        # smooth scrolling downwards so that all elements are loaded properly\n",
        "        Driver.execute_script(\"window.scrollTo({top: document.body.scrollHeight, behavior: 'smooth'});\")\n",
        "        time.sleep(2)\n",
        "        WebDriverWait(Driver, 30).until(EC.visibility_of_all_elements_located((By.CLASS_NAME, \"ZnrnMl\")))\n",
        "        \n",
        "        # get html soup and get all search results on that page\n",
        "        list_elements = search_soup_result(Driver,\n",
        "                                                 search_params['results']['tag'],\n",
        "                                                 search_params['results']['id']\n",
        "                                                 )\n",
        "        \n",
        "        # fill data in search_array variable\n",
        "        fill_search_array(search_array,list_elements,num)\n",
        "        \n",
        "        # initiates scroll back top and clicking next button\n",
        "        if num < NumPages: # ensures final page next button wont be clicked\n",
        "            Driver.execute_script(\"window.scrollTo(0,0);\") # scrolls back to top for smooth scrolling the next page\n",
        "            next_button = Driver.find_element(By.XPATH,'//button[@class=\"shopee-button-outline shopee-mini-page-controller__next-btn\"]')\n",
        "            next_button.click() # tells selenium to click the next button\n",
        "            WebDriverWait(Driver, 30).until(EC.visibility_of_element_located((By.CLASS_NAME, \"shopee-search-item-result\"))) # wait for search result element to be detected\n",
        "            time.sleep(2) # gives driver enough time to load the next page, avoid scraping detection\n",
        "    \n",
        "    # create dataframe\n",
        "    search_pages = pd.DataFrame.from_dict(search_array)\n",
        "    \n",
        "    Driver.close() # close off webdriver object\n",
        "    return search_pages # ---> toggle no. of rows for quick testing with indexing if needed"
      ],
      "metadata": {
        "id": "37YSLTzQcvSk"
      },
      "execution_count": null,
      "outputs": []
    },
    {
      "cell_type": "markdown",
      "source": [
        "# Run Multi Summary Pages Loop Function"
      ],
      "metadata": {
        "id": "ouGF90q-L7XP"
      }
    },
    {
      "cell_type": "markdown",
      "source": [
        " Produce dataframe from search results of \"sneakers\" which we derive from initial driver state \"search\"\n",
        "\n",
        "\n",
        "\n"
      ],
      "metadata": {
        "id": "Mk61oqd0PHzB"
      }
    },
    {
      "cell_type": "code",
      "source": [
        "search_dataframe = scrape_search_pages(search_array, search_params, search[0], 6)\n",
        "search_dataframe"
      ],
      "metadata": {
        "id": "ur1o2HyJJXUN",
        "colab": {
          "base_uri": "https://localhost:8080/",
          "height": 650
        },
        "outputId": "770f95d5-5ab4-4895-cb52-b9b08bb0b351"
      },
      "execution_count": null,
      "outputs": [
        {
          "output_type": "execute_result",
          "data": {
            "text/plain": [
              "                                                  name  min_price  max_price  \\\n",
              "0    Hot selling！Ready Stock 24H Send women air for...      19.07        0.0   \n",
              "1    Af1 Sneakers With gold Streaks In black Air Fo...      21.59        0.0   \n",
              "2    Jordan JD1 high Neck Sneakers Full color basic...      21.49        0.0   \n",
              "3    Skechers Women Active Breathe-Easy Shoes - 100...      99.00        0.0   \n",
              "4    IELGY  Wild little white lace buckle Korean ca...      10.71        0.0   \n",
              "..                                                 ...        ...        ...   \n",
              "295  [ORIGINAL] Women's Sperry Crest Vibe Linen Tex...      89.90        0.0   \n",
              "296  SUPERGA X EARPEARP Superga 2750 Sneakers Print...      77.76        0.0   \n",
              "297  in stock NK SB Dunk Low Fog Black Gum Womens a...      57.93        0.0   \n",
              "298  Air Jordan 1 Low Travis Scott Fragment Low Tub...      59.29        0.0   \n",
              "299  Nb 550 \"white grey\" Sneakers High Quality fullbox      48.06        0.0   \n",
              "\n",
              "     rating                                         image_link  \\\n",
              "0      4.77  https://cf.shopee.sg/file/a4b15c3efed1b621690f...   \n",
              "1      4.65  https://cf.shopee.sg/file/sg-11134201-22110-9n...   \n",
              "2      4.58  https://cf.shopee.sg/file/sg-11134201-22120-97...   \n",
              "3      4.95  https://cf.shopee.sg/file/sg-11134201-23010-p0...   \n",
              "4      4.64  https://cf.shopee.sg/file/ef8b6d6a69584326753c...   \n",
              "..      ...                                                ...   \n",
              "295    4.92  https://cf.shopee.sg/file/f3305ea909acd8ceb37a...   \n",
              "296    5.00  https://cf.shopee.sg/file/abb762dd676d58ae96bf...   \n",
              "297    5.00  https://cf.shopee.sg/file/4c4f8839d525f671bca7...   \n",
              "298    5.00  https://cf.shopee.sg/file/9c2498e75f887cddb15a...   \n",
              "299    5.00  https://cf.shopee.sg/file/ffe7065cbeaea7345c49...   \n",
              "\n",
              "                                          product_link  \n",
              "0    https://shopee.sg/Hot-selling！Ready-Stock-24H-...  \n",
              "1    https://shopee.sg/Af1-Sneakers-With-gold-Strea...  \n",
              "2    https://shopee.sg/Jordan-JD1-high-Neck-Sneaker...  \n",
              "3    https://shopee.sg/Skechers-Women-Active-Breath...  \n",
              "4    https://shopee.sg/IELGY-Wild-little-white-lace...  \n",
              "..                                                 ...  \n",
              "295  https://shopee.sg/-ORIGINAL-Women's-Sperry-Cre...  \n",
              "296  https://shopee.sg/SUPERGA-X-EARPEARP-Superga-2...  \n",
              "297  https://shopee.sg/in-stock-NK-SB-Dunk-Low-Fog-...  \n",
              "298  https://shopee.sg/Air-Jordan-1-Low-Travis-Scot...  \n",
              "299  https://shopee.sg/Nb-550-white-grey-Sneakers-H...  \n",
              "\n",
              "[300 rows x 6 columns]"
            ],
            "text/html": [
              "\n",
              "  <div id=\"df-6dfd55f6-b142-4d65-8db1-d55f921078cc\">\n",
              "    <div class=\"colab-df-container\">\n",
              "      <div>\n",
              "<style scoped>\n",
              "    .dataframe tbody tr th:only-of-type {\n",
              "        vertical-align: middle;\n",
              "    }\n",
              "\n",
              "    .dataframe tbody tr th {\n",
              "        vertical-align: top;\n",
              "    }\n",
              "\n",
              "    .dataframe thead th {\n",
              "        text-align: right;\n",
              "    }\n",
              "</style>\n",
              "<table border=\"1\" class=\"dataframe\">\n",
              "  <thead>\n",
              "    <tr style=\"text-align: right;\">\n",
              "      <th></th>\n",
              "      <th>name</th>\n",
              "      <th>min_price</th>\n",
              "      <th>max_price</th>\n",
              "      <th>rating</th>\n",
              "      <th>image_link</th>\n",
              "      <th>product_link</th>\n",
              "    </tr>\n",
              "  </thead>\n",
              "  <tbody>\n",
              "    <tr>\n",
              "      <th>0</th>\n",
              "      <td>Hot selling！Ready Stock 24H Send women air for...</td>\n",
              "      <td>19.07</td>\n",
              "      <td>0.0</td>\n",
              "      <td>4.77</td>\n",
              "      <td>https://cf.shopee.sg/file/a4b15c3efed1b621690f...</td>\n",
              "      <td>https://shopee.sg/Hot-selling！Ready-Stock-24H-...</td>\n",
              "    </tr>\n",
              "    <tr>\n",
              "      <th>1</th>\n",
              "      <td>Af1 Sneakers With gold Streaks In black Air Fo...</td>\n",
              "      <td>21.59</td>\n",
              "      <td>0.0</td>\n",
              "      <td>4.65</td>\n",
              "      <td>https://cf.shopee.sg/file/sg-11134201-22110-9n...</td>\n",
              "      <td>https://shopee.sg/Af1-Sneakers-With-gold-Strea...</td>\n",
              "    </tr>\n",
              "    <tr>\n",
              "      <th>2</th>\n",
              "      <td>Jordan JD1 high Neck Sneakers Full color basic...</td>\n",
              "      <td>21.49</td>\n",
              "      <td>0.0</td>\n",
              "      <td>4.58</td>\n",
              "      <td>https://cf.shopee.sg/file/sg-11134201-22120-97...</td>\n",
              "      <td>https://shopee.sg/Jordan-JD1-high-Neck-Sneaker...</td>\n",
              "    </tr>\n",
              "    <tr>\n",
              "      <th>3</th>\n",
              "      <td>Skechers Women Active Breathe-Easy Shoes - 100...</td>\n",
              "      <td>99.00</td>\n",
              "      <td>0.0</td>\n",
              "      <td>4.95</td>\n",
              "      <td>https://cf.shopee.sg/file/sg-11134201-23010-p0...</td>\n",
              "      <td>https://shopee.sg/Skechers-Women-Active-Breath...</td>\n",
              "    </tr>\n",
              "    <tr>\n",
              "      <th>4</th>\n",
              "      <td>IELGY  Wild little white lace buckle Korean ca...</td>\n",
              "      <td>10.71</td>\n",
              "      <td>0.0</td>\n",
              "      <td>4.64</td>\n",
              "      <td>https://cf.shopee.sg/file/ef8b6d6a69584326753c...</td>\n",
              "      <td>https://shopee.sg/IELGY-Wild-little-white-lace...</td>\n",
              "    </tr>\n",
              "    <tr>\n",
              "      <th>...</th>\n",
              "      <td>...</td>\n",
              "      <td>...</td>\n",
              "      <td>...</td>\n",
              "      <td>...</td>\n",
              "      <td>...</td>\n",
              "      <td>...</td>\n",
              "    </tr>\n",
              "    <tr>\n",
              "      <th>295</th>\n",
              "      <td>[ORIGINAL] Women's Sperry Crest Vibe Linen Tex...</td>\n",
              "      <td>89.90</td>\n",
              "      <td>0.0</td>\n",
              "      <td>4.92</td>\n",
              "      <td>https://cf.shopee.sg/file/f3305ea909acd8ceb37a...</td>\n",
              "      <td>https://shopee.sg/-ORIGINAL-Women's-Sperry-Cre...</td>\n",
              "    </tr>\n",
              "    <tr>\n",
              "      <th>296</th>\n",
              "      <td>SUPERGA X EARPEARP Superga 2750 Sneakers Print...</td>\n",
              "      <td>77.76</td>\n",
              "      <td>0.0</td>\n",
              "      <td>5.00</td>\n",
              "      <td>https://cf.shopee.sg/file/abb762dd676d58ae96bf...</td>\n",
              "      <td>https://shopee.sg/SUPERGA-X-EARPEARP-Superga-2...</td>\n",
              "    </tr>\n",
              "    <tr>\n",
              "      <th>297</th>\n",
              "      <td>in stock NK SB Dunk Low Fog Black Gum Womens a...</td>\n",
              "      <td>57.93</td>\n",
              "      <td>0.0</td>\n",
              "      <td>5.00</td>\n",
              "      <td>https://cf.shopee.sg/file/4c4f8839d525f671bca7...</td>\n",
              "      <td>https://shopee.sg/in-stock-NK-SB-Dunk-Low-Fog-...</td>\n",
              "    </tr>\n",
              "    <tr>\n",
              "      <th>298</th>\n",
              "      <td>Air Jordan 1 Low Travis Scott Fragment Low Tub...</td>\n",
              "      <td>59.29</td>\n",
              "      <td>0.0</td>\n",
              "      <td>5.00</td>\n",
              "      <td>https://cf.shopee.sg/file/9c2498e75f887cddb15a...</td>\n",
              "      <td>https://shopee.sg/Air-Jordan-1-Low-Travis-Scot...</td>\n",
              "    </tr>\n",
              "    <tr>\n",
              "      <th>299</th>\n",
              "      <td>Nb 550 \"white grey\" Sneakers High Quality fullbox</td>\n",
              "      <td>48.06</td>\n",
              "      <td>0.0</td>\n",
              "      <td>5.00</td>\n",
              "      <td>https://cf.shopee.sg/file/ffe7065cbeaea7345c49...</td>\n",
              "      <td>https://shopee.sg/Nb-550-white-grey-Sneakers-H...</td>\n",
              "    </tr>\n",
              "  </tbody>\n",
              "</table>\n",
              "<p>300 rows × 6 columns</p>\n",
              "</div>\n",
              "      <button class=\"colab-df-convert\" onclick=\"convertToInteractive('df-6dfd55f6-b142-4d65-8db1-d55f921078cc')\"\n",
              "              title=\"Convert this dataframe to an interactive table.\"\n",
              "              style=\"display:none;\">\n",
              "        \n",
              "  <svg xmlns=\"http://www.w3.org/2000/svg\" height=\"24px\"viewBox=\"0 0 24 24\"\n",
              "       width=\"24px\">\n",
              "    <path d=\"M0 0h24v24H0V0z\" fill=\"none\"/>\n",
              "    <path d=\"M18.56 5.44l.94 2.06.94-2.06 2.06-.94-2.06-.94-.94-2.06-.94 2.06-2.06.94zm-11 1L8.5 8.5l.94-2.06 2.06-.94-2.06-.94L8.5 2.5l-.94 2.06-2.06.94zm10 10l.94 2.06.94-2.06 2.06-.94-2.06-.94-.94-2.06-.94 2.06-2.06.94z\"/><path d=\"M17.41 7.96l-1.37-1.37c-.4-.4-.92-.59-1.43-.59-.52 0-1.04.2-1.43.59L10.3 9.45l-7.72 7.72c-.78.78-.78 2.05 0 2.83L4 21.41c.39.39.9.59 1.41.59.51 0 1.02-.2 1.41-.59l7.78-7.78 2.81-2.81c.8-.78.8-2.07 0-2.86zM5.41 20L4 18.59l7.72-7.72 1.47 1.35L5.41 20z\"/>\n",
              "  </svg>\n",
              "      </button>\n",
              "      \n",
              "  <style>\n",
              "    .colab-df-container {\n",
              "      display:flex;\n",
              "      flex-wrap:wrap;\n",
              "      gap: 12px;\n",
              "    }\n",
              "\n",
              "    .colab-df-convert {\n",
              "      background-color: #E8F0FE;\n",
              "      border: none;\n",
              "      border-radius: 50%;\n",
              "      cursor: pointer;\n",
              "      display: none;\n",
              "      fill: #1967D2;\n",
              "      height: 32px;\n",
              "      padding: 0 0 0 0;\n",
              "      width: 32px;\n",
              "    }\n",
              "\n",
              "    .colab-df-convert:hover {\n",
              "      background-color: #E2EBFA;\n",
              "      box-shadow: 0px 1px 2px rgba(60, 64, 67, 0.3), 0px 1px 3px 1px rgba(60, 64, 67, 0.15);\n",
              "      fill: #174EA6;\n",
              "    }\n",
              "\n",
              "    [theme=dark] .colab-df-convert {\n",
              "      background-color: #3B4455;\n",
              "      fill: #D2E3FC;\n",
              "    }\n",
              "\n",
              "    [theme=dark] .colab-df-convert:hover {\n",
              "      background-color: #434B5C;\n",
              "      box-shadow: 0px 1px 3px 1px rgba(0, 0, 0, 0.15);\n",
              "      filter: drop-shadow(0px 1px 2px rgba(0, 0, 0, 0.3));\n",
              "      fill: #FFFFFF;\n",
              "    }\n",
              "  </style>\n",
              "\n",
              "      <script>\n",
              "        const buttonEl =\n",
              "          document.querySelector('#df-6dfd55f6-b142-4d65-8db1-d55f921078cc button.colab-df-convert');\n",
              "        buttonEl.style.display =\n",
              "          google.colab.kernel.accessAllowed ? 'block' : 'none';\n",
              "\n",
              "        async function convertToInteractive(key) {\n",
              "          const element = document.querySelector('#df-6dfd55f6-b142-4d65-8db1-d55f921078cc');\n",
              "          const dataTable =\n",
              "            await google.colab.kernel.invokeFunction('convertToInteractive',\n",
              "                                                     [key], {});\n",
              "          if (!dataTable) return;\n",
              "\n",
              "          const docLinkHtml = 'Like what you see? Visit the ' +\n",
              "            '<a target=\"_blank\" href=https://colab.research.google.com/notebooks/data_table.ipynb>data table notebook</a>'\n",
              "            + ' to learn more about interactive tables.';\n",
              "          element.innerHTML = '';\n",
              "          dataTable['output_type'] = 'display_data';\n",
              "          await google.colab.output.renderOutput(dataTable, element);\n",
              "          const docLink = document.createElement('div');\n",
              "          docLink.innerHTML = docLinkHtml;\n",
              "          element.appendChild(docLink);\n",
              "        }\n",
              "      </script>\n",
              "    </div>\n",
              "  </div>\n",
              "  "
            ]
          },
          "metadata": {},
          "execution_count": 7
        }
      ]
    },
    {
      "cell_type": "markdown",
      "source": [
        "We will get search_dataframe, which consists of the following data:\n",
        "\n",
        "- name: name of product listing\n",
        "- min_price: minimum price of product listing\n",
        "- max_price: maximum price of product listing\n",
        "- image_link: link to listing image\n",
        "- product_link: link to product listing page\n",
        "- page_num: which page product is appearing on"
      ],
      "metadata": {
        "id": "95meFv5FS4IL"
      }
    },
    {
      "cell_type": "markdown",
      "source": [
        "# 5.Functions To Scrape Individual Product Pages"
      ],
      "metadata": {
        "id": "WMu6E9F4SFHj"
      }
    },
    {
      "cell_type": "markdown",
      "source": [
        "## Function to get PRODUCT page details from backend api request\n"
      ],
      "metadata": {
        "id": "uatqJuVBErw4"
      }
    },
    {
      "cell_type": "code",
      "source": [
        "def get_product_data(driver):\n",
        "    \"\"\"\n",
        "    Description:\n",
        "      Retreives data from shopee product data backend api\n",
        "    Arguments:\n",
        "      driver: gets current state of product page [webdriver object]\n",
        "    Returns\u0010:\n",
        "      product_data: full product details by backend api [dictionary object]\n",
        "      shop_data: full shop details by backend api [dictionary object]\n",
        "      shipping_data: full shipping details by backend api [dictionary object]\n",
        "    \"\"\"\n",
        "    product_data = None\n",
        "    shop_data = None\n",
        "\n",
        "    product_sub_url = 'https://shopee.sg/api/v4/item/get?itemid=' # to match correct request for product\n",
        "    shop_sub_url = 'https://shopee.sg/api/v4/product/get_shop_info?shopid=' # to match correct request for shop info\n",
        "\n",
        "    for request in driver.requests:\n",
        "        if request and product_sub_url in request.url:\n",
        "            decompress = gzip.decompress(request.response.body).decode()\n",
        "            product_data = json.loads(decompress)      \n",
        "        elif request and shop_sub_url in request.url:\n",
        "            shop_data = json.loads(request.response.body)\n",
        "        else:\n",
        "            pass\n",
        "    \n",
        "    return product_data,shop_data"
      ],
      "metadata": {
        "id": "v6J1X7ifKEmy"
      },
      "execution_count": null,
      "outputs": []
    },
    {
      "cell_type": "markdown",
      "source": [
        "## Product data array Function"
      ],
      "metadata": {
        "id": "_-v-Dgf5Jm6p"
      }
    },
    {
      "cell_type": "code",
      "source": [
        "def fill_product_array(product_data,shop_data,product_array,product_params):\n",
        "    \"\"\"\n",
        "    Description:\n",
        "      fill up product_array that stores all product data\n",
        "    Arguments:\n",
        "      product_data: gets product data [dictionary object]\n",
        "      shop_data: gets information about seller shop [dictionary object]\n",
        "      product_array: get product data placeholder [dictionary object]\n",
        "      product_params: get required dictionary keys for referencing in product data [dictionary object]\n",
        "    \"\"\"\n",
        "\n",
        "    # fills up arrays in product_array\n",
        "\n",
        "    for k,v in product_params.items():\n",
        "        try:\n",
        "            if 'star_ratings' in k:\n",
        "                data = product_data.get(v[0]).get(v[1]).get(v[2])[v[3]]\n",
        "                product_array.get(k).append(0 if data == None else data)\n",
        "            elif 'category' in k:\n",
        "                data = product_data.get(v[0]).get(v[1])[v[2]].get(v[3])\n",
        "                product_array.get(k).append(0 if data == None else data)\n",
        "            elif k in ('shop_name','shop_followers','response_rate'):\n",
        "                data = shop_data.get(v[0]).get(v[1])\n",
        "                product_array.get(k).append(0 if data == None else data)\n",
        "            else:\n",
        "                data = product_data.get(v[0]).get(v[1])\n",
        "                product_array.get(k).append(0 if data == None else data)\n",
        "        except:\n",
        "            print(v)\n",
        "            raise Exception(print(product_data))\n",
        "\n",
        "  "
      ],
      "metadata": {
        "id": "4TRkgX-sC2zq"
      },
      "execution_count": null,
      "outputs": []
    },
    {
      "cell_type": "markdown",
      "source": [
        "```\n",
        "product_params = {'SG_sold' : \"['data']['sold']\",\n",
        "                 'global_sold': \"['data']['global_sold']\",\n",
        "                 '30day_sold': \"['data']['historical_sold']\",\n",
        "                 'stock_level': \"['data']['stock']\",\n",
        "                 'total_ratings' : \"['data']['cmt_count']\",\n",
        "                 '1_star_ratings' : \"['data']['item_rating']['rating_count'][1]\",\n",
        "                 '2_star_ratings' : \"['data']['item_rating']['rating_count'][2]\",\n",
        "                 '3_star_ratings' : \"['data']['item_rating']['rating_count'][3]\",\n",
        "                 '4_star_ratings' : \"['data']['item_rating']['rating_count'][4]\",\n",
        "                 '5_star_ratings' : \"['data']['item_rating']['rating_count'][5]\",\n",
        "                 'origin' : \"['data']['shop_location']\",\n",
        "                 'discount': \"['data']['show_discount']\",\n",
        "                 'main_category' : \"['data']['fe_categories'][0]['display_name']\",\n",
        "                 'sub_category' : \"['data']['fe_categories'][1]['display_name']\",\n",
        "                 'group_category' : \"['data']['fe_categories'][2]['display_name']\",\n",
        "                 'liked' : \"['data']['liked']\",\n",
        "                 'is_shopee_verified': \"['data']['shopee_verified']\",\n",
        "                 'is_preferred_plus': \"['data']['is_preferred_plus_seller']\",\n",
        "                 'is_official_shop': \"['data']['is_official_shop']\",\n",
        "                 'item_id': \"['data']['itemid']\",\n",
        "                 'shop_id': \"['data']['shopid']\",\n",
        "                 'shop_name': \"['data']['name']\",\n",
        "                 'shop_followers': \"['data']['follower_count']\",\n",
        "                 'response_rate': \"['data']['response_rate']\"\n",
        "                }\n",
        "```\n",
        "\n"
      ],
      "metadata": {
        "id": "vfo88mo0JzRa"
      }
    },
    {
      "cell_type": "markdown",
      "source": [
        "## Function to Iterate Through All produce product detail Pages"
      ],
      "metadata": {
        "id": "JTRUNSriT_CU"
      }
    },
    {
      "cell_type": "code",
      "source": [
        "def scrape_product_pages(search_dataframe,product_array, product_params):\n",
        "    \"\"\"\n",
        "    Description:\n",
        "      Loop through all product links and get all product data\n",
        "    Arguments:\n",
        "      search_dataframe: dataframe from scrape_search_pages func [pandas dataframe object]\n",
        "    Returns:\n",
        "      product_dataframe: dataframe containing info from product pages [pandas dataframe object]\n",
        "    \"\"\"\n",
        "    url_list = search_dataframe['product_link']\n",
        "    Driver = driversetup()\n",
        "    for url in url_list:\n",
        "        Driver.get(url)\n",
        "        time.sleep(3)\n",
        "        Driver.execute_script(\"window.scrollTo({top: document.body.scrollHeight, behavior: 'smooth'});\")\n",
        "        time.sleep(3)\n",
        "        product_data,shop_data = get_product_data(Driver)\n",
        "        fill_product_array(product_data,shop_data,product_array,product_params)\n",
        "        Driver.execute_script(\"window.scrollTo(0,0);\")\n",
        "    \n",
        "    Driver.close()\n",
        "\n",
        "    product_dataframe = pd.DataFrame.from_dict(product_array)\n",
        "\n",
        "    return product_dataframe\n"
      ],
      "metadata": {
        "id": "T-GRsvdnUhAf"
      },
      "execution_count": null,
      "outputs": []
    },
    {
      "cell_type": "markdown",
      "source": [
        "# Initialize Product Containers"
      ],
      "metadata": {
        "id": "Wkg69TjuM4Am"
      }
    },
    {
      "cell_type": "code",
      "source": [
        "#initialise dictionary of data arrays relevant to be scrapped from search"
      ],
      "metadata": {
        "id": "4DKJT45iNhva"
      },
      "execution_count": null,
      "outputs": []
    },
    {
      "cell_type": "code",
      "source": [
        "product_array = {'SG_sold' : [],\n",
        "                 'global_sold': [],\n",
        "                 '30day_sold': [],\n",
        "                 'stock_level': [],\n",
        "                 'total_ratings' : [],\n",
        "                 '1_star_ratings' : [],\n",
        "                 '2_star_ratings' : [],\n",
        "                 '3_star_ratings' : [],\n",
        "                 '4_star_ratings' : [],\n",
        "                 '5_star_ratings' : [],\n",
        "                 'origin' : [],\n",
        "                 'discount': [],\n",
        "                 'main_category' : [],\n",
        "                 'sub_category' : [],\n",
        "                 'group_category' : [],\n",
        "                 'liked' : [],\n",
        "                 'is_shopee_verified': [],\n",
        "                 'is_preferred_plus': [],\n",
        "                 'is_official_shop': [],\n",
        "                 'item_id': [],\n",
        "                 'shop_id': [],\n",
        "                 'shop_name': [],\n",
        "                 'shop_followers': [],\n",
        "                 'response_rate': []\n",
        "                }"
      ],
      "metadata": {
        "id": "iO9un3wbM4An"
      },
      "execution_count": null,
      "outputs": []
    },
    {
      "cell_type": "code",
      "source": [
        "# initialise parameters for referencing to get correct data from parsed api request response"
      ],
      "metadata": {
        "id": "XRbV_8zwNqAI"
      },
      "execution_count": null,
      "outputs": []
    },
    {
      "cell_type": "code",
      "source": [
        "product_params = {'SG_sold' : ['data','sold'],\n",
        "                 'global_sold': ['data','global_sold'],\n",
        "                 '30day_sold': ['data','historical_sold'],\n",
        "                 'stock_level': ['data','stock'],\n",
        "                 'total_ratings' : ['data','cmt_count'],\n",
        "                 '1_star_ratings' : ['data','item_rating','rating_count',1],\n",
        "                 '2_star_ratings' : ['data','item_rating','rating_count',2],\n",
        "                 '3_star_ratings' : ['data','item_rating','rating_count',3],\n",
        "                 '4_star_ratings' : ['data','item_rating','rating_count',4],\n",
        "                 '5_star_ratings' : ['data','item_rating','rating_count',5],\n",
        "                 'origin' : ['data','shop_location'],\n",
        "                 'discount': ['data','show_discount'],\n",
        "                 'main_category' : ['data','fe_categories',0,'display_name'],\n",
        "                 'sub_category' : ['data','fe_categories',1,'display_name'],\n",
        "                 'group_category' : ['data','fe_categories',2,'display_name'],\n",
        "                 'liked' : ['data','liked'],\n",
        "                 'is_shopee_verified': ['data','shopee_verified'],\n",
        "                 'is_preferred_plus': ['data','is_preferred_plus_seller'],\n",
        "                 'is_official_shop': ['data','is_official_shop'],\n",
        "                 'item_id': ['data','itemid'],\n",
        "                 'shop_id': ['data','shopid'],\n",
        "                 'shop_name': ['data','name'], # shop_data\n",
        "                 'shop_followers': ['data','follower_count'], # shop_data\n",
        "                 'response_rate': ['data','response_rate'] # shop_data\n",
        "                }"
      ],
      "metadata": {
        "id": "f5A8-8mFH4YJ"
      },
      "execution_count": null,
      "outputs": []
    },
    {
      "cell_type": "markdown",
      "source": [
        "# Run Function To Create Indiv Product Information\n",
        "\n"
      ],
      "metadata": {
        "id": "b0_mOrzAjrZf"
      }
    },
    {
      "cell_type": "code",
      "source": [
        "product_dataframe = scrape_product_pages(search_dataframe[0:25],product_array,product_params)\n",
        "product_dataframe"
      ],
      "metadata": {
        "id": "HiBhvwm1ka2-",
        "colab": {
          "base_uri": "https://localhost:8080/",
          "height": 661
        },
        "outputId": "2a6c1c12-185a-48c8-95f9-6f0a5e3d4b10"
      },
      "execution_count": null,
      "outputs": [
        {
          "output_type": "execute_result",
          "data": {
            "text/plain": [
              "     SG_sold  global_sold  30day_sold  stock_level  total_ratings  \\\n",
              "0        112          266         266       368079             92   \n",
              "1         97          294         109         5979             52   \n",
              "2         91          550         234        47697             90   \n",
              "3         74            0         158          155             76   \n",
              "4         66          435         435         5660            186   \n",
              "..       ...          ...         ...          ...            ...   \n",
              "295       42          211         177         1508             88   \n",
              "296       35            0         123          303             52   \n",
              "297       39          217          83        42460             23   \n",
              "298       37          388         193        38909             77   \n",
              "299       37         5226         151        27198             46   \n",
              "\n",
              "     1_star_ratings  2_star_ratings  3_star_ratings  4_star_ratings  \\\n",
              "0                 1               1               3               8   \n",
              "1                 0               3               2               5   \n",
              "2                 3               2               4              12   \n",
              "3                 0               0               0               4   \n",
              "4                 3               1              14              24   \n",
              "..              ...             ...             ...             ...   \n",
              "295               3               3               4              10   \n",
              "296               0               0               1               3   \n",
              "297               1               1               2               3   \n",
              "298               4               1               5               6   \n",
              "299               3               0               2               7   \n",
              "\n",
              "     5_star_ratings  ...     group_category  liked is_shopee_verified  \\\n",
              "0                79  ...   Women's Sneakers  False              False   \n",
              "1                42  ...   Low Top Sneakers  False              False   \n",
              "2                69  ...  High Top Sneakers  False              False   \n",
              "3                72  ...   Women's Sneakers  False              False   \n",
              "4               144  ...   Women's Sneakers  False              False   \n",
              "..              ...  ...                ...    ...                ...   \n",
              "295              68  ...      Running Shoes  False              False   \n",
              "296              48  ...   Women's Sneakers  False              False   \n",
              "297              16  ...   Women's Sneakers  False              False   \n",
              "298              61  ...   Women's Sneakers  False              False   \n",
              "299              34  ...   Women's Sneakers  False              False   \n",
              "\n",
              "    is_preferred_plus is_official_shop      item_id    shop_id  \\\n",
              "0               False            False  21627555991  696750773   \n",
              "1               False            False  21462405956  779400615   \n",
              "2               False            False  19805329831  779400615   \n",
              "3               False             True  16585096971   84710867   \n",
              "4               False             True    487473348   11569559   \n",
              "..                ...              ...          ...        ...   \n",
              "295             False            False  20327002351  230411063   \n",
              "296             False             True  21945244914   84710867   \n",
              "297             False            False  20905329454  779400615   \n",
              "298             False            False  21805323271  779400505   \n",
              "299             False            False  12881931015  240877035   \n",
              "\n",
              "                               shop_name  shop_followers  response_rate  \n",
              "0                   Fashion shoes *store             527             78  \n",
              "1                         menshop19o3.sg             564             92  \n",
              "2                         menshop19o3.sg             564             92  \n",
              "3                     Skechers Singapore          147232            100  \n",
              "4     IELGY Women's Shoes Official Store           24616             89  \n",
              "..                                   ...             ...            ...  \n",
              "295                              LX MALL            1981             76  \n",
              "296                   Skechers Singapore          147241            100  \n",
              "297                       menshop19o3.sg             564             92  \n",
              "298                       skylamadawo.sg             407            100  \n",
              "299                   Toko Sepatu  Disna             988            100  \n",
              "\n",
              "[300 rows x 24 columns]"
            ],
            "text/html": [
              "\n",
              "  <div id=\"df-ddf4e562-2305-4ef0-be55-86ae475364d1\">\n",
              "    <div class=\"colab-df-container\">\n",
              "      <div>\n",
              "<style scoped>\n",
              "    .dataframe tbody tr th:only-of-type {\n",
              "        vertical-align: middle;\n",
              "    }\n",
              "\n",
              "    .dataframe tbody tr th {\n",
              "        vertical-align: top;\n",
              "    }\n",
              "\n",
              "    .dataframe thead th {\n",
              "        text-align: right;\n",
              "    }\n",
              "</style>\n",
              "<table border=\"1\" class=\"dataframe\">\n",
              "  <thead>\n",
              "    <tr style=\"text-align: right;\">\n",
              "      <th></th>\n",
              "      <th>SG_sold</th>\n",
              "      <th>global_sold</th>\n",
              "      <th>30day_sold</th>\n",
              "      <th>stock_level</th>\n",
              "      <th>total_ratings</th>\n",
              "      <th>1_star_ratings</th>\n",
              "      <th>2_star_ratings</th>\n",
              "      <th>3_star_ratings</th>\n",
              "      <th>4_star_ratings</th>\n",
              "      <th>5_star_ratings</th>\n",
              "      <th>...</th>\n",
              "      <th>group_category</th>\n",
              "      <th>liked</th>\n",
              "      <th>is_shopee_verified</th>\n",
              "      <th>is_preferred_plus</th>\n",
              "      <th>is_official_shop</th>\n",
              "      <th>item_id</th>\n",
              "      <th>shop_id</th>\n",
              "      <th>shop_name</th>\n",
              "      <th>shop_followers</th>\n",
              "      <th>response_rate</th>\n",
              "    </tr>\n",
              "  </thead>\n",
              "  <tbody>\n",
              "    <tr>\n",
              "      <th>0</th>\n",
              "      <td>112</td>\n",
              "      <td>266</td>\n",
              "      <td>266</td>\n",
              "      <td>368079</td>\n",
              "      <td>92</td>\n",
              "      <td>1</td>\n",
              "      <td>1</td>\n",
              "      <td>3</td>\n",
              "      <td>8</td>\n",
              "      <td>79</td>\n",
              "      <td>...</td>\n",
              "      <td>Women's Sneakers</td>\n",
              "      <td>False</td>\n",
              "      <td>False</td>\n",
              "      <td>False</td>\n",
              "      <td>False</td>\n",
              "      <td>21627555991</td>\n",
              "      <td>696750773</td>\n",
              "      <td>Fashion shoes *store</td>\n",
              "      <td>527</td>\n",
              "      <td>78</td>\n",
              "    </tr>\n",
              "    <tr>\n",
              "      <th>1</th>\n",
              "      <td>97</td>\n",
              "      <td>294</td>\n",
              "      <td>109</td>\n",
              "      <td>5979</td>\n",
              "      <td>52</td>\n",
              "      <td>0</td>\n",
              "      <td>3</td>\n",
              "      <td>2</td>\n",
              "      <td>5</td>\n",
              "      <td>42</td>\n",
              "      <td>...</td>\n",
              "      <td>Low Top Sneakers</td>\n",
              "      <td>False</td>\n",
              "      <td>False</td>\n",
              "      <td>False</td>\n",
              "      <td>False</td>\n",
              "      <td>21462405956</td>\n",
              "      <td>779400615</td>\n",
              "      <td>menshop19o3.sg</td>\n",
              "      <td>564</td>\n",
              "      <td>92</td>\n",
              "    </tr>\n",
              "    <tr>\n",
              "      <th>2</th>\n",
              "      <td>91</td>\n",
              "      <td>550</td>\n",
              "      <td>234</td>\n",
              "      <td>47697</td>\n",
              "      <td>90</td>\n",
              "      <td>3</td>\n",
              "      <td>2</td>\n",
              "      <td>4</td>\n",
              "      <td>12</td>\n",
              "      <td>69</td>\n",
              "      <td>...</td>\n",
              "      <td>High Top Sneakers</td>\n",
              "      <td>False</td>\n",
              "      <td>False</td>\n",
              "      <td>False</td>\n",
              "      <td>False</td>\n",
              "      <td>19805329831</td>\n",
              "      <td>779400615</td>\n",
              "      <td>menshop19o3.sg</td>\n",
              "      <td>564</td>\n",
              "      <td>92</td>\n",
              "    </tr>\n",
              "    <tr>\n",
              "      <th>3</th>\n",
              "      <td>74</td>\n",
              "      <td>0</td>\n",
              "      <td>158</td>\n",
              "      <td>155</td>\n",
              "      <td>76</td>\n",
              "      <td>0</td>\n",
              "      <td>0</td>\n",
              "      <td>0</td>\n",
              "      <td>4</td>\n",
              "      <td>72</td>\n",
              "      <td>...</td>\n",
              "      <td>Women's Sneakers</td>\n",
              "      <td>False</td>\n",
              "      <td>False</td>\n",
              "      <td>False</td>\n",
              "      <td>True</td>\n",
              "      <td>16585096971</td>\n",
              "      <td>84710867</td>\n",
              "      <td>Skechers Singapore</td>\n",
              "      <td>147232</td>\n",
              "      <td>100</td>\n",
              "    </tr>\n",
              "    <tr>\n",
              "      <th>4</th>\n",
              "      <td>66</td>\n",
              "      <td>435</td>\n",
              "      <td>435</td>\n",
              "      <td>5660</td>\n",
              "      <td>186</td>\n",
              "      <td>3</td>\n",
              "      <td>1</td>\n",
              "      <td>14</td>\n",
              "      <td>24</td>\n",
              "      <td>144</td>\n",
              "      <td>...</td>\n",
              "      <td>Women's Sneakers</td>\n",
              "      <td>False</td>\n",
              "      <td>False</td>\n",
              "      <td>False</td>\n",
              "      <td>True</td>\n",
              "      <td>487473348</td>\n",
              "      <td>11569559</td>\n",
              "      <td>IELGY Women's Shoes Official Store</td>\n",
              "      <td>24616</td>\n",
              "      <td>89</td>\n",
              "    </tr>\n",
              "    <tr>\n",
              "      <th>...</th>\n",
              "      <td>...</td>\n",
              "      <td>...</td>\n",
              "      <td>...</td>\n",
              "      <td>...</td>\n",
              "      <td>...</td>\n",
              "      <td>...</td>\n",
              "      <td>...</td>\n",
              "      <td>...</td>\n",
              "      <td>...</td>\n",
              "      <td>...</td>\n",
              "      <td>...</td>\n",
              "      <td>...</td>\n",
              "      <td>...</td>\n",
              "      <td>...</td>\n",
              "      <td>...</td>\n",
              "      <td>...</td>\n",
              "      <td>...</td>\n",
              "      <td>...</td>\n",
              "      <td>...</td>\n",
              "      <td>...</td>\n",
              "      <td>...</td>\n",
              "    </tr>\n",
              "    <tr>\n",
              "      <th>295</th>\n",
              "      <td>42</td>\n",
              "      <td>211</td>\n",
              "      <td>177</td>\n",
              "      <td>1508</td>\n",
              "      <td>88</td>\n",
              "      <td>3</td>\n",
              "      <td>3</td>\n",
              "      <td>4</td>\n",
              "      <td>10</td>\n",
              "      <td>68</td>\n",
              "      <td>...</td>\n",
              "      <td>Running Shoes</td>\n",
              "      <td>False</td>\n",
              "      <td>False</td>\n",
              "      <td>False</td>\n",
              "      <td>False</td>\n",
              "      <td>20327002351</td>\n",
              "      <td>230411063</td>\n",
              "      <td>LX MALL</td>\n",
              "      <td>1981</td>\n",
              "      <td>76</td>\n",
              "    </tr>\n",
              "    <tr>\n",
              "      <th>296</th>\n",
              "      <td>35</td>\n",
              "      <td>0</td>\n",
              "      <td>123</td>\n",
              "      <td>303</td>\n",
              "      <td>52</td>\n",
              "      <td>0</td>\n",
              "      <td>0</td>\n",
              "      <td>1</td>\n",
              "      <td>3</td>\n",
              "      <td>48</td>\n",
              "      <td>...</td>\n",
              "      <td>Women's Sneakers</td>\n",
              "      <td>False</td>\n",
              "      <td>False</td>\n",
              "      <td>False</td>\n",
              "      <td>True</td>\n",
              "      <td>21945244914</td>\n",
              "      <td>84710867</td>\n",
              "      <td>Skechers Singapore</td>\n",
              "      <td>147241</td>\n",
              "      <td>100</td>\n",
              "    </tr>\n",
              "    <tr>\n",
              "      <th>297</th>\n",
              "      <td>39</td>\n",
              "      <td>217</td>\n",
              "      <td>83</td>\n",
              "      <td>42460</td>\n",
              "      <td>23</td>\n",
              "      <td>1</td>\n",
              "      <td>1</td>\n",
              "      <td>2</td>\n",
              "      <td>3</td>\n",
              "      <td>16</td>\n",
              "      <td>...</td>\n",
              "      <td>Women's Sneakers</td>\n",
              "      <td>False</td>\n",
              "      <td>False</td>\n",
              "      <td>False</td>\n",
              "      <td>False</td>\n",
              "      <td>20905329454</td>\n",
              "      <td>779400615</td>\n",
              "      <td>menshop19o3.sg</td>\n",
              "      <td>564</td>\n",
              "      <td>92</td>\n",
              "    </tr>\n",
              "    <tr>\n",
              "      <th>298</th>\n",
              "      <td>37</td>\n",
              "      <td>388</td>\n",
              "      <td>193</td>\n",
              "      <td>38909</td>\n",
              "      <td>77</td>\n",
              "      <td>4</td>\n",
              "      <td>1</td>\n",
              "      <td>5</td>\n",
              "      <td>6</td>\n",
              "      <td>61</td>\n",
              "      <td>...</td>\n",
              "      <td>Women's Sneakers</td>\n",
              "      <td>False</td>\n",
              "      <td>False</td>\n",
              "      <td>False</td>\n",
              "      <td>False</td>\n",
              "      <td>21805323271</td>\n",
              "      <td>779400505</td>\n",
              "      <td>skylamadawo.sg</td>\n",
              "      <td>407</td>\n",
              "      <td>100</td>\n",
              "    </tr>\n",
              "    <tr>\n",
              "      <th>299</th>\n",
              "      <td>37</td>\n",
              "      <td>5226</td>\n",
              "      <td>151</td>\n",
              "      <td>27198</td>\n",
              "      <td>46</td>\n",
              "      <td>3</td>\n",
              "      <td>0</td>\n",
              "      <td>2</td>\n",
              "      <td>7</td>\n",
              "      <td>34</td>\n",
              "      <td>...</td>\n",
              "      <td>Women's Sneakers</td>\n",
              "      <td>False</td>\n",
              "      <td>False</td>\n",
              "      <td>False</td>\n",
              "      <td>False</td>\n",
              "      <td>12881931015</td>\n",
              "      <td>240877035</td>\n",
              "      <td>Toko Sepatu  Disna</td>\n",
              "      <td>988</td>\n",
              "      <td>100</td>\n",
              "    </tr>\n",
              "  </tbody>\n",
              "</table>\n",
              "<p>300 rows × 24 columns</p>\n",
              "</div>\n",
              "      <button class=\"colab-df-convert\" onclick=\"convertToInteractive('df-ddf4e562-2305-4ef0-be55-86ae475364d1')\"\n",
              "              title=\"Convert this dataframe to an interactive table.\"\n",
              "              style=\"display:none;\">\n",
              "        \n",
              "  <svg xmlns=\"http://www.w3.org/2000/svg\" height=\"24px\"viewBox=\"0 0 24 24\"\n",
              "       width=\"24px\">\n",
              "    <path d=\"M0 0h24v24H0V0z\" fill=\"none\"/>\n",
              "    <path d=\"M18.56 5.44l.94 2.06.94-2.06 2.06-.94-2.06-.94-.94-2.06-.94 2.06-2.06.94zm-11 1L8.5 8.5l.94-2.06 2.06-.94-2.06-.94L8.5 2.5l-.94 2.06-2.06.94zm10 10l.94 2.06.94-2.06 2.06-.94-2.06-.94-.94-2.06-.94 2.06-2.06.94z\"/><path d=\"M17.41 7.96l-1.37-1.37c-.4-.4-.92-.59-1.43-.59-.52 0-1.04.2-1.43.59L10.3 9.45l-7.72 7.72c-.78.78-.78 2.05 0 2.83L4 21.41c.39.39.9.59 1.41.59.51 0 1.02-.2 1.41-.59l7.78-7.78 2.81-2.81c.8-.78.8-2.07 0-2.86zM5.41 20L4 18.59l7.72-7.72 1.47 1.35L5.41 20z\"/>\n",
              "  </svg>\n",
              "      </button>\n",
              "      \n",
              "  <style>\n",
              "    .colab-df-container {\n",
              "      display:flex;\n",
              "      flex-wrap:wrap;\n",
              "      gap: 12px;\n",
              "    }\n",
              "\n",
              "    .colab-df-convert {\n",
              "      background-color: #E8F0FE;\n",
              "      border: none;\n",
              "      border-radius: 50%;\n",
              "      cursor: pointer;\n",
              "      display: none;\n",
              "      fill: #1967D2;\n",
              "      height: 32px;\n",
              "      padding: 0 0 0 0;\n",
              "      width: 32px;\n",
              "    }\n",
              "\n",
              "    .colab-df-convert:hover {\n",
              "      background-color: #E2EBFA;\n",
              "      box-shadow: 0px 1px 2px rgba(60, 64, 67, 0.3), 0px 1px 3px 1px rgba(60, 64, 67, 0.15);\n",
              "      fill: #174EA6;\n",
              "    }\n",
              "\n",
              "    [theme=dark] .colab-df-convert {\n",
              "      background-color: #3B4455;\n",
              "      fill: #D2E3FC;\n",
              "    }\n",
              "\n",
              "    [theme=dark] .colab-df-convert:hover {\n",
              "      background-color: #434B5C;\n",
              "      box-shadow: 0px 1px 3px 1px rgba(0, 0, 0, 0.15);\n",
              "      filter: drop-shadow(0px 1px 2px rgba(0, 0, 0, 0.3));\n",
              "      fill: #FFFFFF;\n",
              "    }\n",
              "  </style>\n",
              "\n",
              "      <script>\n",
              "        const buttonEl =\n",
              "          document.querySelector('#df-ddf4e562-2305-4ef0-be55-86ae475364d1 button.colab-df-convert');\n",
              "        buttonEl.style.display =\n",
              "          google.colab.kernel.accessAllowed ? 'block' : 'none';\n",
              "\n",
              "        async function convertToInteractive(key) {\n",
              "          const element = document.querySelector('#df-ddf4e562-2305-4ef0-be55-86ae475364d1');\n",
              "          const dataTable =\n",
              "            await google.colab.kernel.invokeFunction('convertToInteractive',\n",
              "                                                     [key], {});\n",
              "          if (!dataTable) return;\n",
              "\n",
              "          const docLinkHtml = 'Like what you see? Visit the ' +\n",
              "            '<a target=\"_blank\" href=https://colab.research.google.com/notebooks/data_table.ipynb>data table notebook</a>'\n",
              "            + ' to learn more about interactive tables.';\n",
              "          element.innerHTML = '';\n",
              "          dataTable['output_type'] = 'display_data';\n",
              "          await google.colab.output.renderOutput(dataTable, element);\n",
              "          const docLink = document.createElement('div');\n",
              "          docLink.innerHTML = docLinkHtml;\n",
              "          element.appendChild(docLink);\n",
              "        }\n",
              "      </script>\n",
              "    </div>\n",
              "  </div>\n",
              "  "
            ]
          },
          "metadata": {},
          "execution_count": 78
        }
      ]
    },
    {
      "cell_type": "code",
      "source": [
        "product_dataframe.to_csv('shopee_top_sales_product_dataframe_24rows') # took 7.5mins for 25 products"
      ],
      "metadata": {
        "id": "jT0s-MErcbKz"
      },
      "execution_count": null,
      "outputs": []
    },
    {
      "cell_type": "markdown",
      "source": [
        "We will get search_dataframe, which consists of the following data:\n",
        "\n",
        "- 'SG_sold' : total stock sold in SG\n",
        "- 'global_sold': total stock sold gloablly\n",
        "- '30day_sold': total stock sold past 30 days\n",
        "- 'stock_level': total stock levels\n",
        "- 'total_ratings' : number of ratings\n",
        "- '1_star_ratings': number of 1 star ratings\n",
        "- '2_star_ratings': number of 2 star ratings\n",
        "- '3_star_ratings': number of 3 star ratings\n",
        "- '4_star_ratings': number of 4 star ratings\n",
        "- '5_star_ratings': number of 5 star ratings\n",
        "- 'origin' : shipping origin\n",
        "- 'discount': current discount % for product\n",
        "- 'main_category' : main category (1st)\n",
        "- 'sub_category' : sub category (2nd)\n",
        "- 'group_category' : group catgeory (3rd)\n",
        "- 'liked' : number of likes on product listing\n",
        "- 'is_shopee_verified': boolean on whether seller is verified\n",
        "- 'is_preferred_plus': boolean on whether seller is under prefered plus\n",
        "- 'is_official_shop': boolean on whether shop is official\n",
        "- 'item_id': id of listing\n",
        "- 'shop_id': id of seller\n",
        "- 'shop_name': shop name\n",
        "- 'shop_followers': number of people following shop\n",
        "- 'response rate': rate of seller responding to enquiries\n"
      ],
      "metadata": {
        "id": "NupxSElHiPy8"
      }
    },
    {
      "cell_type": "markdown",
      "source": [
        "# 6.Combine Summary and Product Dataframes to achieve final dataframe"
      ],
      "metadata": {
        "id": "Y8Wmdazh8MAK"
      }
    },
    {
      "cell_type": "code",
      "source": [
        "#combines 2 dataframe\n",
        "def combine_dataframe(search_dataframe, product_dataframe):\n",
        "    return pd.concat([search_dataframe,product_dataframe],axis=1)"
      ],
      "metadata": {
        "id": "i4Bw7aGHC4DE"
      },
      "execution_count": 16,
      "outputs": []
    },
    {
      "cell_type": "code",
      "source": [
        "search_dataframe =pd.read_csv('/content/drive/MyDrive/Data Files/E commerce web scraping/shopee_top_sales_search_data.csv',index_col=0)\n",
        "product_dataframe =pd.read_csv('/content/drive/MyDrive/Data Files/E commerce web scraping/shopee_top_sales_product_dataframe_24rows',index_col=0) \n",
        "final_dataframe = combine_dataframe(search_dataframe,product_dataframe)\n",
        "final_dataframe"
      ],
      "metadata": {
        "colab": {
          "base_uri": "https://localhost:8080/",
          "height": 1000
        },
        "id": "8EobjkUIC4HB",
        "outputId": "00248554-99c3-411e-9e40-d724b416b1c8"
      },
      "execution_count": 20,
      "outputs": [
        {
          "output_type": "execute_result",
          "data": {
            "text/plain": [
              "                                                  name  min_price  max_price  \\\n",
              "0    Hot selling！Ready Stock 24H Send women air for...      19.07        0.0   \n",
              "1    Af1 Sneakers With gold Streaks In black Air Fo...      21.59        0.0   \n",
              "2    Jordan JD1 high Neck Sneakers Full color basic...      21.49        0.0   \n",
              "3    Skechers Women Active Breathe-Easy Shoes - 100...      99.00        0.0   \n",
              "4    IELGY  Wild little white lace buckle Korean ca...      10.71        0.0   \n",
              "..                                                 ...        ...        ...   \n",
              "295  [ORIGINAL] Women's Sperry Crest Vibe Linen Tex...      89.90        0.0   \n",
              "296  SUPERGA X EARPEARP Superga 2750 Sneakers Print...      77.76        0.0   \n",
              "297  in stock NK SB Dunk Low Fog Black Gum Womens a...      57.93        0.0   \n",
              "298  Air Jordan 1 Low Travis Scott Fragment Low Tub...      59.29        0.0   \n",
              "299  Nb 550 \"white grey\" Sneakers High Quality fullbox      48.06        0.0   \n",
              "\n",
              "     rating                                         image_link  \\\n",
              "0      4.77  https://cf.shopee.sg/file/a4b15c3efed1b621690f...   \n",
              "1      4.65  https://cf.shopee.sg/file/sg-11134201-22110-9n...   \n",
              "2      4.58  https://cf.shopee.sg/file/sg-11134201-22120-97...   \n",
              "3      4.95  https://cf.shopee.sg/file/sg-11134201-23010-p0...   \n",
              "4      4.64  https://cf.shopee.sg/file/ef8b6d6a69584326753c...   \n",
              "..      ...                                                ...   \n",
              "295    4.92  https://cf.shopee.sg/file/f3305ea909acd8ceb37a...   \n",
              "296    5.00  https://cf.shopee.sg/file/abb762dd676d58ae96bf...   \n",
              "297    5.00  https://cf.shopee.sg/file/4c4f8839d525f671bca7...   \n",
              "298    5.00  https://cf.shopee.sg/file/9c2498e75f887cddb15a...   \n",
              "299    5.00  https://cf.shopee.sg/file/ffe7065cbeaea7345c49...   \n",
              "\n",
              "                                          product_link  SG_sold  global_sold  \\\n",
              "0    https://shopee.sg/Hot-selling！Ready-Stock-24H-...      112          266   \n",
              "1    https://shopee.sg/Af1-Sneakers-With-gold-Strea...       97          294   \n",
              "2    https://shopee.sg/Jordan-JD1-high-Neck-Sneaker...       91          550   \n",
              "3    https://shopee.sg/Skechers-Women-Active-Breath...       74            0   \n",
              "4    https://shopee.sg/IELGY-Wild-little-white-lace...       66          435   \n",
              "..                                                 ...      ...          ...   \n",
              "295  https://shopee.sg/-ORIGINAL-Women's-Sperry-Cre...       42          211   \n",
              "296  https://shopee.sg/SUPERGA-X-EARPEARP-Superga-2...       35            0   \n",
              "297  https://shopee.sg/in-stock-NK-SB-Dunk-Low-Fog-...       39          217   \n",
              "298  https://shopee.sg/Air-Jordan-1-Low-Travis-Scot...       37          388   \n",
              "299  https://shopee.sg/Nb-550-white-grey-Sneakers-H...       37         5226   \n",
              "\n",
              "     30day_sold  stock_level  ...     group_category  liked  \\\n",
              "0           266       368079  ...   Women's Sneakers  False   \n",
              "1           109         5979  ...   Low Top Sneakers  False   \n",
              "2           234        47697  ...  High Top Sneakers  False   \n",
              "3           158          155  ...   Women's Sneakers  False   \n",
              "4           435         5660  ...   Women's Sneakers  False   \n",
              "..          ...          ...  ...                ...    ...   \n",
              "295         177         1508  ...      Running Shoes  False   \n",
              "296         123          303  ...   Women's Sneakers  False   \n",
              "297          83        42460  ...   Women's Sneakers  False   \n",
              "298         193        38909  ...   Women's Sneakers  False   \n",
              "299         151        27198  ...   Women's Sneakers  False   \n",
              "\n",
              "     is_shopee_verified  is_preferred_plus  is_official_shop      item_id  \\\n",
              "0                 False              False             False  21627555991   \n",
              "1                 False              False             False  21462405956   \n",
              "2                 False              False             False  19805329831   \n",
              "3                 False              False              True  16585096971   \n",
              "4                 False              False              True    487473348   \n",
              "..                  ...                ...               ...          ...   \n",
              "295               False              False             False  20327002351   \n",
              "296               False              False              True  21945244914   \n",
              "297               False              False             False  20905329454   \n",
              "298               False              False             False  21805323271   \n",
              "299               False              False             False  12881931015   \n",
              "\n",
              "       shop_id                            shop_name shop_followers  \\\n",
              "0    696750773                 Fashion shoes *store            527   \n",
              "1    779400615                       menshop19o3.sg            564   \n",
              "2    779400615                       menshop19o3.sg            564   \n",
              "3     84710867                   Skechers Singapore         147232   \n",
              "4     11569559   IELGY Women's Shoes Official Store          24616   \n",
              "..         ...                                  ...            ...   \n",
              "295  230411063                              LX MALL           1981   \n",
              "296   84710867                   Skechers Singapore         147241   \n",
              "297  779400615                       menshop19o3.sg            564   \n",
              "298  779400505                       skylamadawo.sg            407   \n",
              "299  240877035                   Toko Sepatu  Disna            988   \n",
              "\n",
              "    response_rate  \n",
              "0              78  \n",
              "1              92  \n",
              "2              92  \n",
              "3             100  \n",
              "4              89  \n",
              "..            ...  \n",
              "295            76  \n",
              "296           100  \n",
              "297            92  \n",
              "298           100  \n",
              "299           100  \n",
              "\n",
              "[300 rows x 30 columns]"
            ],
            "text/html": [
              "\n",
              "  <div id=\"df-a6f07e00-74f5-47e9-8b11-aac3560370dc\">\n",
              "    <div class=\"colab-df-container\">\n",
              "      <div>\n",
              "<style scoped>\n",
              "    .dataframe tbody tr th:only-of-type {\n",
              "        vertical-align: middle;\n",
              "    }\n",
              "\n",
              "    .dataframe tbody tr th {\n",
              "        vertical-align: top;\n",
              "    }\n",
              "\n",
              "    .dataframe thead th {\n",
              "        text-align: right;\n",
              "    }\n",
              "</style>\n",
              "<table border=\"1\" class=\"dataframe\">\n",
              "  <thead>\n",
              "    <tr style=\"text-align: right;\">\n",
              "      <th></th>\n",
              "      <th>name</th>\n",
              "      <th>min_price</th>\n",
              "      <th>max_price</th>\n",
              "      <th>rating</th>\n",
              "      <th>image_link</th>\n",
              "      <th>product_link</th>\n",
              "      <th>SG_sold</th>\n",
              "      <th>global_sold</th>\n",
              "      <th>30day_sold</th>\n",
              "      <th>stock_level</th>\n",
              "      <th>...</th>\n",
              "      <th>group_category</th>\n",
              "      <th>liked</th>\n",
              "      <th>is_shopee_verified</th>\n",
              "      <th>is_preferred_plus</th>\n",
              "      <th>is_official_shop</th>\n",
              "      <th>item_id</th>\n",
              "      <th>shop_id</th>\n",
              "      <th>shop_name</th>\n",
              "      <th>shop_followers</th>\n",
              "      <th>response_rate</th>\n",
              "    </tr>\n",
              "  </thead>\n",
              "  <tbody>\n",
              "    <tr>\n",
              "      <th>0</th>\n",
              "      <td>Hot selling！Ready Stock 24H Send women air for...</td>\n",
              "      <td>19.07</td>\n",
              "      <td>0.0</td>\n",
              "      <td>4.77</td>\n",
              "      <td>https://cf.shopee.sg/file/a4b15c3efed1b621690f...</td>\n",
              "      <td>https://shopee.sg/Hot-selling！Ready-Stock-24H-...</td>\n",
              "      <td>112</td>\n",
              "      <td>266</td>\n",
              "      <td>266</td>\n",
              "      <td>368079</td>\n",
              "      <td>...</td>\n",
              "      <td>Women's Sneakers</td>\n",
              "      <td>False</td>\n",
              "      <td>False</td>\n",
              "      <td>False</td>\n",
              "      <td>False</td>\n",
              "      <td>21627555991</td>\n",
              "      <td>696750773</td>\n",
              "      <td>Fashion shoes *store</td>\n",
              "      <td>527</td>\n",
              "      <td>78</td>\n",
              "    </tr>\n",
              "    <tr>\n",
              "      <th>1</th>\n",
              "      <td>Af1 Sneakers With gold Streaks In black Air Fo...</td>\n",
              "      <td>21.59</td>\n",
              "      <td>0.0</td>\n",
              "      <td>4.65</td>\n",
              "      <td>https://cf.shopee.sg/file/sg-11134201-22110-9n...</td>\n",
              "      <td>https://shopee.sg/Af1-Sneakers-With-gold-Strea...</td>\n",
              "      <td>97</td>\n",
              "      <td>294</td>\n",
              "      <td>109</td>\n",
              "      <td>5979</td>\n",
              "      <td>...</td>\n",
              "      <td>Low Top Sneakers</td>\n",
              "      <td>False</td>\n",
              "      <td>False</td>\n",
              "      <td>False</td>\n",
              "      <td>False</td>\n",
              "      <td>21462405956</td>\n",
              "      <td>779400615</td>\n",
              "      <td>menshop19o3.sg</td>\n",
              "      <td>564</td>\n",
              "      <td>92</td>\n",
              "    </tr>\n",
              "    <tr>\n",
              "      <th>2</th>\n",
              "      <td>Jordan JD1 high Neck Sneakers Full color basic...</td>\n",
              "      <td>21.49</td>\n",
              "      <td>0.0</td>\n",
              "      <td>4.58</td>\n",
              "      <td>https://cf.shopee.sg/file/sg-11134201-22120-97...</td>\n",
              "      <td>https://shopee.sg/Jordan-JD1-high-Neck-Sneaker...</td>\n",
              "      <td>91</td>\n",
              "      <td>550</td>\n",
              "      <td>234</td>\n",
              "      <td>47697</td>\n",
              "      <td>...</td>\n",
              "      <td>High Top Sneakers</td>\n",
              "      <td>False</td>\n",
              "      <td>False</td>\n",
              "      <td>False</td>\n",
              "      <td>False</td>\n",
              "      <td>19805329831</td>\n",
              "      <td>779400615</td>\n",
              "      <td>menshop19o3.sg</td>\n",
              "      <td>564</td>\n",
              "      <td>92</td>\n",
              "    </tr>\n",
              "    <tr>\n",
              "      <th>3</th>\n",
              "      <td>Skechers Women Active Breathe-Easy Shoes - 100...</td>\n",
              "      <td>99.00</td>\n",
              "      <td>0.0</td>\n",
              "      <td>4.95</td>\n",
              "      <td>https://cf.shopee.sg/file/sg-11134201-23010-p0...</td>\n",
              "      <td>https://shopee.sg/Skechers-Women-Active-Breath...</td>\n",
              "      <td>74</td>\n",
              "      <td>0</td>\n",
              "      <td>158</td>\n",
              "      <td>155</td>\n",
              "      <td>...</td>\n",
              "      <td>Women's Sneakers</td>\n",
              "      <td>False</td>\n",
              "      <td>False</td>\n",
              "      <td>False</td>\n",
              "      <td>True</td>\n",
              "      <td>16585096971</td>\n",
              "      <td>84710867</td>\n",
              "      <td>Skechers Singapore</td>\n",
              "      <td>147232</td>\n",
              "      <td>100</td>\n",
              "    </tr>\n",
              "    <tr>\n",
              "      <th>4</th>\n",
              "      <td>IELGY  Wild little white lace buckle Korean ca...</td>\n",
              "      <td>10.71</td>\n",
              "      <td>0.0</td>\n",
              "      <td>4.64</td>\n",
              "      <td>https://cf.shopee.sg/file/ef8b6d6a69584326753c...</td>\n",
              "      <td>https://shopee.sg/IELGY-Wild-little-white-lace...</td>\n",
              "      <td>66</td>\n",
              "      <td>435</td>\n",
              "      <td>435</td>\n",
              "      <td>5660</td>\n",
              "      <td>...</td>\n",
              "      <td>Women's Sneakers</td>\n",
              "      <td>False</td>\n",
              "      <td>False</td>\n",
              "      <td>False</td>\n",
              "      <td>True</td>\n",
              "      <td>487473348</td>\n",
              "      <td>11569559</td>\n",
              "      <td>IELGY Women's Shoes Official Store</td>\n",
              "      <td>24616</td>\n",
              "      <td>89</td>\n",
              "    </tr>\n",
              "    <tr>\n",
              "      <th>...</th>\n",
              "      <td>...</td>\n",
              "      <td>...</td>\n",
              "      <td>...</td>\n",
              "      <td>...</td>\n",
              "      <td>...</td>\n",
              "      <td>...</td>\n",
              "      <td>...</td>\n",
              "      <td>...</td>\n",
              "      <td>...</td>\n",
              "      <td>...</td>\n",
              "      <td>...</td>\n",
              "      <td>...</td>\n",
              "      <td>...</td>\n",
              "      <td>...</td>\n",
              "      <td>...</td>\n",
              "      <td>...</td>\n",
              "      <td>...</td>\n",
              "      <td>...</td>\n",
              "      <td>...</td>\n",
              "      <td>...</td>\n",
              "      <td>...</td>\n",
              "    </tr>\n",
              "    <tr>\n",
              "      <th>295</th>\n",
              "      <td>[ORIGINAL] Women's Sperry Crest Vibe Linen Tex...</td>\n",
              "      <td>89.90</td>\n",
              "      <td>0.0</td>\n",
              "      <td>4.92</td>\n",
              "      <td>https://cf.shopee.sg/file/f3305ea909acd8ceb37a...</td>\n",
              "      <td>https://shopee.sg/-ORIGINAL-Women's-Sperry-Cre...</td>\n",
              "      <td>42</td>\n",
              "      <td>211</td>\n",
              "      <td>177</td>\n",
              "      <td>1508</td>\n",
              "      <td>...</td>\n",
              "      <td>Running Shoes</td>\n",
              "      <td>False</td>\n",
              "      <td>False</td>\n",
              "      <td>False</td>\n",
              "      <td>False</td>\n",
              "      <td>20327002351</td>\n",
              "      <td>230411063</td>\n",
              "      <td>LX MALL</td>\n",
              "      <td>1981</td>\n",
              "      <td>76</td>\n",
              "    </tr>\n",
              "    <tr>\n",
              "      <th>296</th>\n",
              "      <td>SUPERGA X EARPEARP Superga 2750 Sneakers Print...</td>\n",
              "      <td>77.76</td>\n",
              "      <td>0.0</td>\n",
              "      <td>5.00</td>\n",
              "      <td>https://cf.shopee.sg/file/abb762dd676d58ae96bf...</td>\n",
              "      <td>https://shopee.sg/SUPERGA-X-EARPEARP-Superga-2...</td>\n",
              "      <td>35</td>\n",
              "      <td>0</td>\n",
              "      <td>123</td>\n",
              "      <td>303</td>\n",
              "      <td>...</td>\n",
              "      <td>Women's Sneakers</td>\n",
              "      <td>False</td>\n",
              "      <td>False</td>\n",
              "      <td>False</td>\n",
              "      <td>True</td>\n",
              "      <td>21945244914</td>\n",
              "      <td>84710867</td>\n",
              "      <td>Skechers Singapore</td>\n",
              "      <td>147241</td>\n",
              "      <td>100</td>\n",
              "    </tr>\n",
              "    <tr>\n",
              "      <th>297</th>\n",
              "      <td>in stock NK SB Dunk Low Fog Black Gum Womens a...</td>\n",
              "      <td>57.93</td>\n",
              "      <td>0.0</td>\n",
              "      <td>5.00</td>\n",
              "      <td>https://cf.shopee.sg/file/4c4f8839d525f671bca7...</td>\n",
              "      <td>https://shopee.sg/in-stock-NK-SB-Dunk-Low-Fog-...</td>\n",
              "      <td>39</td>\n",
              "      <td>217</td>\n",
              "      <td>83</td>\n",
              "      <td>42460</td>\n",
              "      <td>...</td>\n",
              "      <td>Women's Sneakers</td>\n",
              "      <td>False</td>\n",
              "      <td>False</td>\n",
              "      <td>False</td>\n",
              "      <td>False</td>\n",
              "      <td>20905329454</td>\n",
              "      <td>779400615</td>\n",
              "      <td>menshop19o3.sg</td>\n",
              "      <td>564</td>\n",
              "      <td>92</td>\n",
              "    </tr>\n",
              "    <tr>\n",
              "      <th>298</th>\n",
              "      <td>Air Jordan 1 Low Travis Scott Fragment Low Tub...</td>\n",
              "      <td>59.29</td>\n",
              "      <td>0.0</td>\n",
              "      <td>5.00</td>\n",
              "      <td>https://cf.shopee.sg/file/9c2498e75f887cddb15a...</td>\n",
              "      <td>https://shopee.sg/Air-Jordan-1-Low-Travis-Scot...</td>\n",
              "      <td>37</td>\n",
              "      <td>388</td>\n",
              "      <td>193</td>\n",
              "      <td>38909</td>\n",
              "      <td>...</td>\n",
              "      <td>Women's Sneakers</td>\n",
              "      <td>False</td>\n",
              "      <td>False</td>\n",
              "      <td>False</td>\n",
              "      <td>False</td>\n",
              "      <td>21805323271</td>\n",
              "      <td>779400505</td>\n",
              "      <td>skylamadawo.sg</td>\n",
              "      <td>407</td>\n",
              "      <td>100</td>\n",
              "    </tr>\n",
              "    <tr>\n",
              "      <th>299</th>\n",
              "      <td>Nb 550 \"white grey\" Sneakers High Quality fullbox</td>\n",
              "      <td>48.06</td>\n",
              "      <td>0.0</td>\n",
              "      <td>5.00</td>\n",
              "      <td>https://cf.shopee.sg/file/ffe7065cbeaea7345c49...</td>\n",
              "      <td>https://shopee.sg/Nb-550-white-grey-Sneakers-H...</td>\n",
              "      <td>37</td>\n",
              "      <td>5226</td>\n",
              "      <td>151</td>\n",
              "      <td>27198</td>\n",
              "      <td>...</td>\n",
              "      <td>Women's Sneakers</td>\n",
              "      <td>False</td>\n",
              "      <td>False</td>\n",
              "      <td>False</td>\n",
              "      <td>False</td>\n",
              "      <td>12881931015</td>\n",
              "      <td>240877035</td>\n",
              "      <td>Toko Sepatu  Disna</td>\n",
              "      <td>988</td>\n",
              "      <td>100</td>\n",
              "    </tr>\n",
              "  </tbody>\n",
              "</table>\n",
              "<p>300 rows × 30 columns</p>\n",
              "</div>\n",
              "      <button class=\"colab-df-convert\" onclick=\"convertToInteractive('df-a6f07e00-74f5-47e9-8b11-aac3560370dc')\"\n",
              "              title=\"Convert this dataframe to an interactive table.\"\n",
              "              style=\"display:none;\">\n",
              "        \n",
              "  <svg xmlns=\"http://www.w3.org/2000/svg\" height=\"24px\"viewBox=\"0 0 24 24\"\n",
              "       width=\"24px\">\n",
              "    <path d=\"M0 0h24v24H0V0z\" fill=\"none\"/>\n",
              "    <path d=\"M18.56 5.44l.94 2.06.94-2.06 2.06-.94-2.06-.94-.94-2.06-.94 2.06-2.06.94zm-11 1L8.5 8.5l.94-2.06 2.06-.94-2.06-.94L8.5 2.5l-.94 2.06-2.06.94zm10 10l.94 2.06.94-2.06 2.06-.94-2.06-.94-.94-2.06-.94 2.06-2.06.94z\"/><path d=\"M17.41 7.96l-1.37-1.37c-.4-.4-.92-.59-1.43-.59-.52 0-1.04.2-1.43.59L10.3 9.45l-7.72 7.72c-.78.78-.78 2.05 0 2.83L4 21.41c.39.39.9.59 1.41.59.51 0 1.02-.2 1.41-.59l7.78-7.78 2.81-2.81c.8-.78.8-2.07 0-2.86zM5.41 20L4 18.59l7.72-7.72 1.47 1.35L5.41 20z\"/>\n",
              "  </svg>\n",
              "      </button>\n",
              "      \n",
              "  <style>\n",
              "    .colab-df-container {\n",
              "      display:flex;\n",
              "      flex-wrap:wrap;\n",
              "      gap: 12px;\n",
              "    }\n",
              "\n",
              "    .colab-df-convert {\n",
              "      background-color: #E8F0FE;\n",
              "      border: none;\n",
              "      border-radius: 50%;\n",
              "      cursor: pointer;\n",
              "      display: none;\n",
              "      fill: #1967D2;\n",
              "      height: 32px;\n",
              "      padding: 0 0 0 0;\n",
              "      width: 32px;\n",
              "    }\n",
              "\n",
              "    .colab-df-convert:hover {\n",
              "      background-color: #E2EBFA;\n",
              "      box-shadow: 0px 1px 2px rgba(60, 64, 67, 0.3), 0px 1px 3px 1px rgba(60, 64, 67, 0.15);\n",
              "      fill: #174EA6;\n",
              "    }\n",
              "\n",
              "    [theme=dark] .colab-df-convert {\n",
              "      background-color: #3B4455;\n",
              "      fill: #D2E3FC;\n",
              "    }\n",
              "\n",
              "    [theme=dark] .colab-df-convert:hover {\n",
              "      background-color: #434B5C;\n",
              "      box-shadow: 0px 1px 3px 1px rgba(0, 0, 0, 0.15);\n",
              "      filter: drop-shadow(0px 1px 2px rgba(0, 0, 0, 0.3));\n",
              "      fill: #FFFFFF;\n",
              "    }\n",
              "  </style>\n",
              "\n",
              "      <script>\n",
              "        const buttonEl =\n",
              "          document.querySelector('#df-a6f07e00-74f5-47e9-8b11-aac3560370dc button.colab-df-convert');\n",
              "        buttonEl.style.display =\n",
              "          google.colab.kernel.accessAllowed ? 'block' : 'none';\n",
              "\n",
              "        async function convertToInteractive(key) {\n",
              "          const element = document.querySelector('#df-a6f07e00-74f5-47e9-8b11-aac3560370dc');\n",
              "          const dataTable =\n",
              "            await google.colab.kernel.invokeFunction('convertToInteractive',\n",
              "                                                     [key], {});\n",
              "          if (!dataTable) return;\n",
              "\n",
              "          const docLinkHtml = 'Like what you see? Visit the ' +\n",
              "            '<a target=\"_blank\" href=https://colab.research.google.com/notebooks/data_table.ipynb>data table notebook</a>'\n",
              "            + ' to learn more about interactive tables.';\n",
              "          element.innerHTML = '';\n",
              "          dataTable['output_type'] = 'display_data';\n",
              "          await google.colab.output.renderOutput(dataTable, element);\n",
              "          const docLink = document.createElement('div');\n",
              "          docLink.innerHTML = docLinkHtml;\n",
              "          element.appendChild(docLink);\n",
              "        }\n",
              "      </script>\n",
              "    </div>\n",
              "  </div>\n",
              "  "
            ]
          },
          "metadata": {},
          "execution_count": 20
        }
      ]
    },
    {
      "cell_type": "markdown",
      "source": [
        "# 7.Data Preprocessing"
      ],
      "metadata": {
        "id": "YyyVP9FP-NQa"
      }
    },
    {
      "cell_type": "markdown",
      "source": [
        "## Create Product Turnover Rate"
      ],
      "metadata": {
        "id": "uLgv22wehfAQ"
      }
    },
    {
      "cell_type": "markdown",
      "source": [
        "Tells you how extent of over and understocking of specified product\n",
        "\n",
        "Product Turnover Rate = 30day_sold / stock_level"
      ],
      "metadata": {
        "id": "nx5zyUlMhyZA"
      }
    },
    {
      "cell_type": "code",
      "source": [
        "final_dataframe['turnover_rate'] = final_dataframe['30day_sold']/final_dataframe['stock_level']"
      ],
      "metadata": {
        "id": "bcrKpyxShc4O"
      },
      "execution_count": 36,
      "outputs": []
    },
    {
      "cell_type": "markdown",
      "source": [
        "# 8.Data Insights Extracted"
      ],
      "metadata": {
        "id": "u6DRo3gxikdE"
      }
    },
    {
      "cell_type": "markdown",
      "source": [
        "## Top x Current Selling Products\n",
        "\n",
        "\n"
      ],
      "metadata": {
        "id": "6UqvjRHbix-o"
      }
    },
    {
      "cell_type": "markdown",
      "source": [
        "Tells you top x sellings products on Shopee by monthly sales"
      ],
      "metadata": {
        "id": "7Pr35KsTupn1"
      }
    },
    {
      "cell_type": "code",
      "source": [
        "final_dataframe.sort_values(by=['30day_sold'], ascending=False).head()[['name','30day_sold']]"
      ],
      "metadata": {
        "colab": {
          "base_uri": "https://localhost:8080/",
          "height": 204
        },
        "id": "yMHp2Ni82j1H",
        "outputId": "88b74110-5149-45e6-a602-bcaa35c5b6d2"
      },
      "execution_count": 22,
      "outputs": [
        {
          "output_type": "execute_result",
          "data": {
            "text/plain": [
              "                                                  name  30day_sold\n",
              "262   [Superga] 2750 GOTU Classic sneakers Total Beige        1424\n",
              "291  Kitchen Special Shoes Women Anti-Slip Waterpro...        1424\n",
              "53     adidas ORIGINALS Superstar Shoes Sneaker GY2073        1424\n",
              "16   MUJI Ladies Walk Support Water Repellent Sneakers        1424\n",
              "294  Josepht Smith Leather Sneakers Navy Smith Sand...        1119"
            ],
            "text/html": [
              "\n",
              "  <div id=\"df-a74b926d-c0ab-4ba8-a48b-daf12e482ebe\">\n",
              "    <div class=\"colab-df-container\">\n",
              "      <div>\n",
              "<style scoped>\n",
              "    .dataframe tbody tr th:only-of-type {\n",
              "        vertical-align: middle;\n",
              "    }\n",
              "\n",
              "    .dataframe tbody tr th {\n",
              "        vertical-align: top;\n",
              "    }\n",
              "\n",
              "    .dataframe thead th {\n",
              "        text-align: right;\n",
              "    }\n",
              "</style>\n",
              "<table border=\"1\" class=\"dataframe\">\n",
              "  <thead>\n",
              "    <tr style=\"text-align: right;\">\n",
              "      <th></th>\n",
              "      <th>name</th>\n",
              "      <th>30day_sold</th>\n",
              "    </tr>\n",
              "  </thead>\n",
              "  <tbody>\n",
              "    <tr>\n",
              "      <th>262</th>\n",
              "      <td>[Superga] 2750 GOTU Classic sneakers Total Beige</td>\n",
              "      <td>1424</td>\n",
              "    </tr>\n",
              "    <tr>\n",
              "      <th>291</th>\n",
              "      <td>Kitchen Special Shoes Women Anti-Slip Waterpro...</td>\n",
              "      <td>1424</td>\n",
              "    </tr>\n",
              "    <tr>\n",
              "      <th>53</th>\n",
              "      <td>adidas ORIGINALS Superstar Shoes Sneaker GY2073</td>\n",
              "      <td>1424</td>\n",
              "    </tr>\n",
              "    <tr>\n",
              "      <th>16</th>\n",
              "      <td>MUJI Ladies Walk Support Water Repellent Sneakers</td>\n",
              "      <td>1424</td>\n",
              "    </tr>\n",
              "    <tr>\n",
              "      <th>294</th>\n",
              "      <td>Josepht Smith Leather Sneakers Navy Smith Sand...</td>\n",
              "      <td>1119</td>\n",
              "    </tr>\n",
              "  </tbody>\n",
              "</table>\n",
              "</div>\n",
              "      <button class=\"colab-df-convert\" onclick=\"convertToInteractive('df-a74b926d-c0ab-4ba8-a48b-daf12e482ebe')\"\n",
              "              title=\"Convert this dataframe to an interactive table.\"\n",
              "              style=\"display:none;\">\n",
              "        \n",
              "  <svg xmlns=\"http://www.w3.org/2000/svg\" height=\"24px\"viewBox=\"0 0 24 24\"\n",
              "       width=\"24px\">\n",
              "    <path d=\"M0 0h24v24H0V0z\" fill=\"none\"/>\n",
              "    <path d=\"M18.56 5.44l.94 2.06.94-2.06 2.06-.94-2.06-.94-.94-2.06-.94 2.06-2.06.94zm-11 1L8.5 8.5l.94-2.06 2.06-.94-2.06-.94L8.5 2.5l-.94 2.06-2.06.94zm10 10l.94 2.06.94-2.06 2.06-.94-2.06-.94-.94-2.06-.94 2.06-2.06.94z\"/><path d=\"M17.41 7.96l-1.37-1.37c-.4-.4-.92-.59-1.43-.59-.52 0-1.04.2-1.43.59L10.3 9.45l-7.72 7.72c-.78.78-.78 2.05 0 2.83L4 21.41c.39.39.9.59 1.41.59.51 0 1.02-.2 1.41-.59l7.78-7.78 2.81-2.81c.8-.78.8-2.07 0-2.86zM5.41 20L4 18.59l7.72-7.72 1.47 1.35L5.41 20z\"/>\n",
              "  </svg>\n",
              "      </button>\n",
              "      \n",
              "  <style>\n",
              "    .colab-df-container {\n",
              "      display:flex;\n",
              "      flex-wrap:wrap;\n",
              "      gap: 12px;\n",
              "    }\n",
              "\n",
              "    .colab-df-convert {\n",
              "      background-color: #E8F0FE;\n",
              "      border: none;\n",
              "      border-radius: 50%;\n",
              "      cursor: pointer;\n",
              "      display: none;\n",
              "      fill: #1967D2;\n",
              "      height: 32px;\n",
              "      padding: 0 0 0 0;\n",
              "      width: 32px;\n",
              "    }\n",
              "\n",
              "    .colab-df-convert:hover {\n",
              "      background-color: #E2EBFA;\n",
              "      box-shadow: 0px 1px 2px rgba(60, 64, 67, 0.3), 0px 1px 3px 1px rgba(60, 64, 67, 0.15);\n",
              "      fill: #174EA6;\n",
              "    }\n",
              "\n",
              "    [theme=dark] .colab-df-convert {\n",
              "      background-color: #3B4455;\n",
              "      fill: #D2E3FC;\n",
              "    }\n",
              "\n",
              "    [theme=dark] .colab-df-convert:hover {\n",
              "      background-color: #434B5C;\n",
              "      box-shadow: 0px 1px 3px 1px rgba(0, 0, 0, 0.15);\n",
              "      filter: drop-shadow(0px 1px 2px rgba(0, 0, 0, 0.3));\n",
              "      fill: #FFFFFF;\n",
              "    }\n",
              "  </style>\n",
              "\n",
              "      <script>\n",
              "        const buttonEl =\n",
              "          document.querySelector('#df-a74b926d-c0ab-4ba8-a48b-daf12e482ebe button.colab-df-convert');\n",
              "        buttonEl.style.display =\n",
              "          google.colab.kernel.accessAllowed ? 'block' : 'none';\n",
              "\n",
              "        async function convertToInteractive(key) {\n",
              "          const element = document.querySelector('#df-a74b926d-c0ab-4ba8-a48b-daf12e482ebe');\n",
              "          const dataTable =\n",
              "            await google.colab.kernel.invokeFunction('convertToInteractive',\n",
              "                                                     [key], {});\n",
              "          if (!dataTable) return;\n",
              "\n",
              "          const docLinkHtml = 'Like what you see? Visit the ' +\n",
              "            '<a target=\"_blank\" href=https://colab.research.google.com/notebooks/data_table.ipynb>data table notebook</a>'\n",
              "            + ' to learn more about interactive tables.';\n",
              "          element.innerHTML = '';\n",
              "          dataTable['output_type'] = 'display_data';\n",
              "          await google.colab.output.renderOutput(dataTable, element);\n",
              "          const docLink = document.createElement('div');\n",
              "          docLink.innerHTML = docLinkHtml;\n",
              "          element.appendChild(docLink);\n",
              "        }\n",
              "      </script>\n",
              "    </div>\n",
              "  </div>\n",
              "  "
            ]
          },
          "metadata": {},
          "execution_count": 22
        }
      ]
    },
    {
      "cell_type": "markdown",
      "source": [
        "## Top x Highly Liked Products"
      ],
      "metadata": {
        "id": "Q-PX1GKujQys"
      }
    },
    {
      "cell_type": "markdown",
      "source": [
        "Tells you top x products with very high interest on Shopee"
      ],
      "metadata": {
        "id": "RwtM6mqhut3i"
      }
    },
    {
      "cell_type": "code",
      "source": [
        "final_dataframe.sort_values(by=['liked'], ascending=False).head()[['name','liked']]"
      ],
      "metadata": {
        "colab": {
          "base_uri": "https://localhost:8080/",
          "height": 204
        },
        "id": "h2b5b02y3Ugx",
        "outputId": "24f03fcd-82d1-4243-8508-2a0f245c04fe"
      },
      "execution_count": 23,
      "outputs": [
        {
          "output_type": "execute_result",
          "data": {
            "text/plain": [
              "                                                  name  liked\n",
              "0    Hot selling！Ready Stock 24H Send women air for...  False\n",
              "206           FILA Court Deluxe Velcro Unisex Sneakers  False\n",
              "204  PL2 READY STOCK NIK@ AF1 AIRFORCE 1 HIGH TOP L...  False\n",
              "203                    So STORM Women's SNEAKERS Shoes  False\n",
              "202  Toko - Women's Korean SNEAKERS WHY TEDDY BEAR ...  False"
            ],
            "text/html": [
              "\n",
              "  <div id=\"df-41c8dadf-bf30-449f-8648-ba91011ca14b\">\n",
              "    <div class=\"colab-df-container\">\n",
              "      <div>\n",
              "<style scoped>\n",
              "    .dataframe tbody tr th:only-of-type {\n",
              "        vertical-align: middle;\n",
              "    }\n",
              "\n",
              "    .dataframe tbody tr th {\n",
              "        vertical-align: top;\n",
              "    }\n",
              "\n",
              "    .dataframe thead th {\n",
              "        text-align: right;\n",
              "    }\n",
              "</style>\n",
              "<table border=\"1\" class=\"dataframe\">\n",
              "  <thead>\n",
              "    <tr style=\"text-align: right;\">\n",
              "      <th></th>\n",
              "      <th>name</th>\n",
              "      <th>liked</th>\n",
              "    </tr>\n",
              "  </thead>\n",
              "  <tbody>\n",
              "    <tr>\n",
              "      <th>0</th>\n",
              "      <td>Hot selling！Ready Stock 24H Send women air for...</td>\n",
              "      <td>False</td>\n",
              "    </tr>\n",
              "    <tr>\n",
              "      <th>206</th>\n",
              "      <td>FILA Court Deluxe Velcro Unisex Sneakers</td>\n",
              "      <td>False</td>\n",
              "    </tr>\n",
              "    <tr>\n",
              "      <th>204</th>\n",
              "      <td>PL2 READY STOCK NIK@ AF1 AIRFORCE 1 HIGH TOP L...</td>\n",
              "      <td>False</td>\n",
              "    </tr>\n",
              "    <tr>\n",
              "      <th>203</th>\n",
              "      <td>So STORM Women's SNEAKERS Shoes</td>\n",
              "      <td>False</td>\n",
              "    </tr>\n",
              "    <tr>\n",
              "      <th>202</th>\n",
              "      <td>Toko - Women's Korean SNEAKERS WHY TEDDY BEAR ...</td>\n",
              "      <td>False</td>\n",
              "    </tr>\n",
              "  </tbody>\n",
              "</table>\n",
              "</div>\n",
              "      <button class=\"colab-df-convert\" onclick=\"convertToInteractive('df-41c8dadf-bf30-449f-8648-ba91011ca14b')\"\n",
              "              title=\"Convert this dataframe to an interactive table.\"\n",
              "              style=\"display:none;\">\n",
              "        \n",
              "  <svg xmlns=\"http://www.w3.org/2000/svg\" height=\"24px\"viewBox=\"0 0 24 24\"\n",
              "       width=\"24px\">\n",
              "    <path d=\"M0 0h24v24H0V0z\" fill=\"none\"/>\n",
              "    <path d=\"M18.56 5.44l.94 2.06.94-2.06 2.06-.94-2.06-.94-.94-2.06-.94 2.06-2.06.94zm-11 1L8.5 8.5l.94-2.06 2.06-.94-2.06-.94L8.5 2.5l-.94 2.06-2.06.94zm10 10l.94 2.06.94-2.06 2.06-.94-2.06-.94-.94-2.06-.94 2.06-2.06.94z\"/><path d=\"M17.41 7.96l-1.37-1.37c-.4-.4-.92-.59-1.43-.59-.52 0-1.04.2-1.43.59L10.3 9.45l-7.72 7.72c-.78.78-.78 2.05 0 2.83L4 21.41c.39.39.9.59 1.41.59.51 0 1.02-.2 1.41-.59l7.78-7.78 2.81-2.81c.8-.78.8-2.07 0-2.86zM5.41 20L4 18.59l7.72-7.72 1.47 1.35L5.41 20z\"/>\n",
              "  </svg>\n",
              "      </button>\n",
              "      \n",
              "  <style>\n",
              "    .colab-df-container {\n",
              "      display:flex;\n",
              "      flex-wrap:wrap;\n",
              "      gap: 12px;\n",
              "    }\n",
              "\n",
              "    .colab-df-convert {\n",
              "      background-color: #E8F0FE;\n",
              "      border: none;\n",
              "      border-radius: 50%;\n",
              "      cursor: pointer;\n",
              "      display: none;\n",
              "      fill: #1967D2;\n",
              "      height: 32px;\n",
              "      padding: 0 0 0 0;\n",
              "      width: 32px;\n",
              "    }\n",
              "\n",
              "    .colab-df-convert:hover {\n",
              "      background-color: #E2EBFA;\n",
              "      box-shadow: 0px 1px 2px rgba(60, 64, 67, 0.3), 0px 1px 3px 1px rgba(60, 64, 67, 0.15);\n",
              "      fill: #174EA6;\n",
              "    }\n",
              "\n",
              "    [theme=dark] .colab-df-convert {\n",
              "      background-color: #3B4455;\n",
              "      fill: #D2E3FC;\n",
              "    }\n",
              "\n",
              "    [theme=dark] .colab-df-convert:hover {\n",
              "      background-color: #434B5C;\n",
              "      box-shadow: 0px 1px 3px 1px rgba(0, 0, 0, 0.15);\n",
              "      filter: drop-shadow(0px 1px 2px rgba(0, 0, 0, 0.3));\n",
              "      fill: #FFFFFF;\n",
              "    }\n",
              "  </style>\n",
              "\n",
              "      <script>\n",
              "        const buttonEl =\n",
              "          document.querySelector('#df-41c8dadf-bf30-449f-8648-ba91011ca14b button.colab-df-convert');\n",
              "        buttonEl.style.display =\n",
              "          google.colab.kernel.accessAllowed ? 'block' : 'none';\n",
              "\n",
              "        async function convertToInteractive(key) {\n",
              "          const element = document.querySelector('#df-41c8dadf-bf30-449f-8648-ba91011ca14b');\n",
              "          const dataTable =\n",
              "            await google.colab.kernel.invokeFunction('convertToInteractive',\n",
              "                                                     [key], {});\n",
              "          if (!dataTable) return;\n",
              "\n",
              "          const docLinkHtml = 'Like what you see? Visit the ' +\n",
              "            '<a target=\"_blank\" href=https://colab.research.google.com/notebooks/data_table.ipynb>data table notebook</a>'\n",
              "            + ' to learn more about interactive tables.';\n",
              "          element.innerHTML = '';\n",
              "          dataTable['output_type'] = 'display_data';\n",
              "          await google.colab.output.renderOutput(dataTable, element);\n",
              "          const docLink = document.createElement('div');\n",
              "          docLink.innerHTML = docLinkHtml;\n",
              "          element.appendChild(docLink);\n",
              "        }\n",
              "      </script>\n",
              "    </div>\n",
              "  </div>\n",
              "  "
            ]
          },
          "metadata": {},
          "execution_count": 23
        }
      ]
    },
    {
      "cell_type": "markdown",
      "source": [
        "## Top X Selling Sub Categories"
      ],
      "metadata": {
        "id": "X_rGuRdSjhna"
      }
    },
    {
      "cell_type": "markdown",
      "source": [
        "Tells you top selling sub categories in which you may find cross sell opportunites"
      ],
      "metadata": {
        "id": "o5LXRx1vu4Bp"
      }
    },
    {
      "cell_type": "code",
      "source": [
        "final_dataframe.groupby(by=[\"sub_category\"]).sum().sort_values(by=['30day_sold'],ascending=False)['30day_sold'].head()"
      ],
      "metadata": {
        "colab": {
          "base_uri": "https://localhost:8080/"
        },
        "id": "oIwQTpnQ5zhK",
        "outputId": "3308291b-6919-4b53-f7fe-203729af331b"
      },
      "execution_count": 24,
      "outputs": [
        {
          "output_type": "execute_result",
          "data": {
            "text/plain": [
              "sub_category\n",
              "Sneakers                     52756\n",
              "Men Sports Attire & Shoes     1558\n",
              "Shoe Accessories              1135\n",
              "Baby & Kids Shoes                2\n",
              "Name: 30day_sold, dtype: int64"
            ]
          },
          "metadata": {},
          "execution_count": 24
        }
      ]
    },
    {
      "cell_type": "markdown",
      "source": [
        "## Top X Selling Group Categories"
      ],
      "metadata": {
        "id": "hS_ymmh5vH6s"
      }
    },
    {
      "cell_type": "markdown",
      "source": [
        "Tells you top selling group categories in which you may find cross sell opportunites"
      ],
      "metadata": {
        "id": "jHHPdrt9vPNb"
      }
    },
    {
      "cell_type": "code",
      "source": [
        "final_dataframe.groupby(by=[\"group_category\"]).sum().sort_values(by=['30day_sold'],ascending=False)['30day_sold']"
      ],
      "metadata": {
        "colab": {
          "base_uri": "https://localhost:8080/"
        },
        "id": "4rG9_qhE80xq",
        "outputId": "87ffbcb7-8dce-4e72-b345-d87546657462"
      },
      "execution_count": 25,
      "outputs": [
        {
          "output_type": "execute_result",
          "data": {
            "text/plain": [
              "group_category\n",
              "Women's Sneakers     28209\n",
              "Low Top Sneakers     22750\n",
              "High Top Sneakers     1585\n",
              "Running Shoes         1512\n",
              "Shoe Care             1135\n",
              "Others                 212\n",
              "Basketball Shoes        46\n",
              "School Shoes             2\n",
              "Name: 30day_sold, dtype: int64"
            ]
          },
          "metadata": {},
          "execution_count": 25
        }
      ]
    },
    {
      "cell_type": "markdown",
      "source": [
        "## Top X Sellers by Sales\n",
        "\n",
        "\n"
      ],
      "metadata": {
        "id": "T9Ihfv6Kjy42"
      }
    },
    {
      "cell_type": "markdown",
      "source": [
        "Tells you top ranking sellers on shopee by thier monthly sales or total sales"
      ],
      "metadata": {
        "id": "dBr_uHQYvXYX"
      }
    },
    {
      "cell_type": "markdown",
      "source": [
        "- based on past 30 day sales"
      ],
      "metadata": {
        "id": "WBx7IxxyVzni"
      }
    },
    {
      "cell_type": "code",
      "source": [
        "final_dataframe.groupby(by=[\"shop_name\"]).sum().sort_values(by=['30day_sold'],ascending=False)['30day_sold'].head()"
      ],
      "metadata": {
        "colab": {
          "base_uri": "https://localhost:8080/"
        },
        "id": "RkqQ5sBj9CdL",
        "outputId": "d5a32760-a3b9-4fbb-d5d5-a883f9c2e46d"
      },
      "execution_count": 26,
      "outputs": [
        {
          "output_type": "execute_result",
          "data": {
            "text/plain": [
              "shop_name\n",
              "MUJI Official Store                    9212\n",
              "12km.sg                                6420\n",
              "A.W-shop                               4476\n",
              "SooStore                               4223\n",
              " IELGY Women's Shoes Official Store    2713\n",
              "Name: 30day_sold, dtype: int64"
            ]
          },
          "metadata": {},
          "execution_count": 26
        }
      ]
    },
    {
      "cell_type": "markdown",
      "source": [
        "- based on historical total sales"
      ],
      "metadata": {
        "id": "i2GloAneV2Uv"
      }
    },
    {
      "cell_type": "code",
      "source": [
        "final_dataframe.groupby(by=[\"shop_name\"]).sum().sort_values(by=['global_sold'],ascending=False)['global_sold'].head()"
      ],
      "metadata": {
        "colab": {
          "base_uri": "https://localhost:8080/"
        },
        "id": "fIOI1GD4VZS7",
        "outputId": "9aa1230f-d837-454e-e065-d2b4dc9c8e08"
      },
      "execution_count": 28,
      "outputs": [
        {
          "output_type": "execute_result",
          "data": {
            "text/plain": [
              "shop_name\n",
              "Toko Sepatu  Disna          34900\n",
              "ventela_agen.sg             26465\n",
              "ayrashoes01.sg              18290\n",
              "pendekar1945.sg             17860\n",
              "Diva Store Official Shop    16401\n",
              "Name: global_sold, dtype: int64"
            ]
          },
          "metadata": {},
          "execution_count": 28
        }
      ]
    },
    {
      "cell_type": "markdown",
      "source": [
        "## Price Distribution of Best Selling Product\n",
        "\n",
        "\n"
      ],
      "metadata": {
        "id": "xT4AEIs7kR3A"
      }
    },
    {
      "cell_type": "markdown",
      "source": [
        "Tells sellers price dist of best selling product by 30day_sales"
      ],
      "metadata": {
        "id": "23NUObOOv8bi"
      }
    },
    {
      "cell_type": "code",
      "source": [
        "top5_30d_sales = final_dataframe.sort_values(by=['30day_sold'], ascending=False).head()\n",
        "top5_30d_sales['min_price'].describe()"
      ],
      "metadata": {
        "colab": {
          "base_uri": "https://localhost:8080/"
        },
        "id": "HBdXVzfuz4cr",
        "outputId": "9d6e9f42-7666-45d0-eae8-90ba37a5e594"
      },
      "execution_count": 29,
      "outputs": [
        {
          "output_type": "execute_result",
          "data": {
            "text/plain": [
              "count      5.000000\n",
              "mean      72.024000\n",
              "std       61.708573\n",
              "min       16.070000\n",
              "25%       16.450000\n",
              "50%       72.360000\n",
              "75%       90.000000\n",
              "max      165.240000\n",
              "Name: min_price, dtype: float64"
            ]
          },
          "metadata": {},
          "execution_count": 29
        }
      ]
    },
    {
      "cell_type": "markdown",
      "source": [
        "## Discount % Distribution of Best Selling Product"
      ],
      "metadata": {
        "id": "f1u8sxDMkR67"
      }
    },
    {
      "cell_type": "markdown",
      "source": [
        "- tells seller discount distribution for recent best selling products where it is defined to be more than x past 30 days sales e.g. >20 is defined to be very good sales"
      ],
      "metadata": {
        "id": "-akjc2RrVxXY"
      }
    },
    {
      "cell_type": "code",
      "source": [
        "sns.histplot(final_dataframe[final_dataframe['30day_sold']>20]['discount'])"
      ],
      "metadata": {
        "colab": {
          "base_uri": "https://localhost:8080/",
          "height": 296
        },
        "id": "KdcEYn5X9Qrl",
        "outputId": "2bb154a8-62cf-4a7b-96d7-dc7ec8d0e297"
      },
      "execution_count": 30,
      "outputs": [
        {
          "output_type": "execute_result",
          "data": {
            "text/plain": [
              "<matplotlib.axes._subplots.AxesSubplot at 0x7f79e9028280>"
            ]
          },
          "metadata": {},
          "execution_count": 30
        },
        {
          "output_type": "display_data",
          "data": {
            "text/plain": [
              "<Figure size 432x288 with 1 Axes>"
            ],
            "image/png": "[encoded data removed]"
          },
          "metadata": {
            "needs_background": "light"
          }
        }
      ]
    },
    {
      "cell_type": "markdown",
      "source": [
        "## Response Rate Distribution for Best Selling Products"
      ],
      "metadata": {
        "id": "Xl-EiRHOnLgp"
      }
    },
    {
      "cell_type": "markdown",
      "source": [
        "## Top X Shop Origin"
      ],
      "metadata": {
        "id": "vnidhHxTkR-B"
      }
    },
    {
      "cell_type": "markdown",
      "source": [
        "tells seller what is the top best product's shop name and location of shop based on past 30 days sales"
      ],
      "metadata": {
        "id": "IaZAU5xgWRLg"
      }
    },
    {
      "cell_type": "code",
      "source": [
        "final_dataframe.sort_values(by=['30day_sold'], ascending=False).head()[['shop_name','origin']]"
      ],
      "metadata": {
        "colab": {
          "base_uri": "https://localhost:8080/",
          "height": 204
        },
        "id": "MXTIoWsoPG9E",
        "outputId": "f9b3b133-3e39-47a8-cb53-0452043eea06"
      },
      "execution_count": 33,
      "outputs": [
        {
          "output_type": "execute_result",
          "data": {
            "text/plain": [
              "               shop_name          origin\n",
              "262  MUJI Official Store       Singapore\n",
              "291  MUJI Official Store       Singapore\n",
              "53   MUJI Official Store       Singapore\n",
              "16   MUJI Official Store       Singapore\n",
              "294             A.W-shop  Mainland China"
            ],
            "text/html": [
              "\n",
              "  <div id=\"df-6152c9de-af9e-41ef-9cba-ad5423d4f1ee\">\n",
              "    <div class=\"colab-df-container\">\n",
              "      <div>\n",
              "<style scoped>\n",
              "    .dataframe tbody tr th:only-of-type {\n",
              "        vertical-align: middle;\n",
              "    }\n",
              "\n",
              "    .dataframe tbody tr th {\n",
              "        vertical-align: top;\n",
              "    }\n",
              "\n",
              "    .dataframe thead th {\n",
              "        text-align: right;\n",
              "    }\n",
              "</style>\n",
              "<table border=\"1\" class=\"dataframe\">\n",
              "  <thead>\n",
              "    <tr style=\"text-align: right;\">\n",
              "      <th></th>\n",
              "      <th>shop_name</th>\n",
              "      <th>origin</th>\n",
              "    </tr>\n",
              "  </thead>\n",
              "  <tbody>\n",
              "    <tr>\n",
              "      <th>262</th>\n",
              "      <td>MUJI Official Store</td>\n",
              "      <td>Singapore</td>\n",
              "    </tr>\n",
              "    <tr>\n",
              "      <th>291</th>\n",
              "      <td>MUJI Official Store</td>\n",
              "      <td>Singapore</td>\n",
              "    </tr>\n",
              "    <tr>\n",
              "      <th>53</th>\n",
              "      <td>MUJI Official Store</td>\n",
              "      <td>Singapore</td>\n",
              "    </tr>\n",
              "    <tr>\n",
              "      <th>16</th>\n",
              "      <td>MUJI Official Store</td>\n",
              "      <td>Singapore</td>\n",
              "    </tr>\n",
              "    <tr>\n",
              "      <th>294</th>\n",
              "      <td>A.W-shop</td>\n",
              "      <td>Mainland China</td>\n",
              "    </tr>\n",
              "  </tbody>\n",
              "</table>\n",
              "</div>\n",
              "      <button class=\"colab-df-convert\" onclick=\"convertToInteractive('df-6152c9de-af9e-41ef-9cba-ad5423d4f1ee')\"\n",
              "              title=\"Convert this dataframe to an interactive table.\"\n",
              "              style=\"display:none;\">\n",
              "        \n",
              "  <svg xmlns=\"http://www.w3.org/2000/svg\" height=\"24px\"viewBox=\"0 0 24 24\"\n",
              "       width=\"24px\">\n",
              "    <path d=\"M0 0h24v24H0V0z\" fill=\"none\"/>\n",
              "    <path d=\"M18.56 5.44l.94 2.06.94-2.06 2.06-.94-2.06-.94-.94-2.06-.94 2.06-2.06.94zm-11 1L8.5 8.5l.94-2.06 2.06-.94-2.06-.94L8.5 2.5l-.94 2.06-2.06.94zm10 10l.94 2.06.94-2.06 2.06-.94-2.06-.94-.94-2.06-.94 2.06-2.06.94z\"/><path d=\"M17.41 7.96l-1.37-1.37c-.4-.4-.92-.59-1.43-.59-.52 0-1.04.2-1.43.59L10.3 9.45l-7.72 7.72c-.78.78-.78 2.05 0 2.83L4 21.41c.39.39.9.59 1.41.59.51 0 1.02-.2 1.41-.59l7.78-7.78 2.81-2.81c.8-.78.8-2.07 0-2.86zM5.41 20L4 18.59l7.72-7.72 1.47 1.35L5.41 20z\"/>\n",
              "  </svg>\n",
              "      </button>\n",
              "      \n",
              "  <style>\n",
              "    .colab-df-container {\n",
              "      display:flex;\n",
              "      flex-wrap:wrap;\n",
              "      gap: 12px;\n",
              "    }\n",
              "\n",
              "    .colab-df-convert {\n",
              "      background-color: #E8F0FE;\n",
              "      border: none;\n",
              "      border-radius: 50%;\n",
              "      cursor: pointer;\n",
              "      display: none;\n",
              "      fill: #1967D2;\n",
              "      height: 32px;\n",
              "      padding: 0 0 0 0;\n",
              "      width: 32px;\n",
              "    }\n",
              "\n",
              "    .colab-df-convert:hover {\n",
              "      background-color: #E2EBFA;\n",
              "      box-shadow: 0px 1px 2px rgba(60, 64, 67, 0.3), 0px 1px 3px 1px rgba(60, 64, 67, 0.15);\n",
              "      fill: #174EA6;\n",
              "    }\n",
              "\n",
              "    [theme=dark] .colab-df-convert {\n",
              "      background-color: #3B4455;\n",
              "      fill: #D2E3FC;\n",
              "    }\n",
              "\n",
              "    [theme=dark] .colab-df-convert:hover {\n",
              "      background-color: #434B5C;\n",
              "      box-shadow: 0px 1px 3px 1px rgba(0, 0, 0, 0.15);\n",
              "      filter: drop-shadow(0px 1px 2px rgba(0, 0, 0, 0.3));\n",
              "      fill: #FFFFFF;\n",
              "    }\n",
              "  </style>\n",
              "\n",
              "      <script>\n",
              "        const buttonEl =\n",
              "          document.querySelector('#df-6152c9de-af9e-41ef-9cba-ad5423d4f1ee button.colab-df-convert');\n",
              "        buttonEl.style.display =\n",
              "          google.colab.kernel.accessAllowed ? 'block' : 'none';\n",
              "\n",
              "        async function convertToInteractive(key) {\n",
              "          const element = document.querySelector('#df-6152c9de-af9e-41ef-9cba-ad5423d4f1ee');\n",
              "          const dataTable =\n",
              "            await google.colab.kernel.invokeFunction('convertToInteractive',\n",
              "                                                     [key], {});\n",
              "          if (!dataTable) return;\n",
              "\n",
              "          const docLinkHtml = 'Like what you see? Visit the ' +\n",
              "            '<a target=\"_blank\" href=https://colab.research.google.com/notebooks/data_table.ipynb>data table notebook</a>'\n",
              "            + ' to learn more about interactive tables.';\n",
              "          element.innerHTML = '';\n",
              "          dataTable['output_type'] = 'display_data';\n",
              "          await google.colab.output.renderOutput(dataTable, element);\n",
              "          const docLink = document.createElement('div');\n",
              "          docLink.innerHTML = docLinkHtml;\n",
              "          element.appendChild(docLink);\n",
              "        }\n",
              "      </script>\n",
              "    </div>\n",
              "  </div>\n",
              "  "
            ]
          },
          "metadata": {},
          "execution_count": 33
        }
      ]
    },
    {
      "cell_type": "markdown",
      "source": [
        "## Countplot of is_official store for tops selling"
      ],
      "metadata": {
        "id": "sVdP8QDtkSBL"
      }
    },
    {
      "cell_type": "markdown",
      "source": [
        "- see if people have the habit of buying mainly from official or non official shops"
      ],
      "metadata": {
        "id": "F-LziTjrPVXh"
      }
    },
    {
      "cell_type": "code",
      "source": [
        "sns.countplot(final_dataframe.sort_values(by=['30day_sold'], ascending=False)['is_official_shop'])"
      ],
      "metadata": {
        "colab": {
          "base_uri": "https://localhost:8080/",
          "height": 354
        },
        "id": "udac2bEfPVoH",
        "outputId": "3eccc5ed-e507-4d27-df32-6e99c29df2b1"
      },
      "execution_count": 34,
      "outputs": [
        {
          "output_type": "stream",
          "name": "stderr",
          "text": [
            "/usr/local/lib/python3.8/dist-packages/seaborn/_decorators.py:36: FutureWarning: Pass the following variable as a keyword arg: x. From version 0.12, the only valid positional argument will be `data`, and passing other arguments without an explicit keyword will result in an error or misinterpretation.\n",
            "  warnings.warn(\n"
          ]
        },
        {
          "output_type": "execute_result",
          "data": {
            "text/plain": [
              "<matplotlib.axes._subplots.AxesSubplot at 0x7f79e8aebe50>"
            ]
          },
          "metadata": {},
          "execution_count": 34
        },
        {
          "output_type": "display_data",
          "data": {
            "text/plain": [
              "<Figure size 432x288 with 1 Axes>"
            ],
            "image/png": "[encoded data removed]"
          },
          "metadata": {
            "needs_background": "light"
          }
        }
      ]
    },
    {
      "cell_type": "markdown",
      "source": [
        "## Product Turnover Rate distribution of top selling prducts"
      ],
      "metadata": {
        "id": "zZkxTC9TkSEY"
      }
    },
    {
      "cell_type": "markdown",
      "source": [
        "- tells seller product distribution for recent best selling products where it is defined to be more than x past 30 days sales e.g. >20 is defined to be very good sales\n",
        "- gives seller a benchmark to follow when selling goods"
      ],
      "metadata": {
        "id": "DUkGBNk8XC8H"
      }
    },
    {
      "cell_type": "code",
      "source": [
        "sns.histplot(final_dataframe[final_dataframe['30day_sold']>300]['turnover_rate'])"
      ],
      "metadata": {
        "colab": {
          "base_uri": "https://localhost:8080/",
          "height": 297
        },
        "id": "Ayny6L2QXOW3",
        "outputId": "d1577123-59a5-4c88-d917-c6f9cf522980"
      },
      "execution_count": 40,
      "outputs": [
        {
          "output_type": "execute_result",
          "data": {
            "text/plain": [
              "<matplotlib.axes._subplots.AxesSubplot at 0x7f79e8ae7d60>"
            ]
          },
          "metadata": {},
          "execution_count": 40
        },
        {
          "output_type": "display_data",
          "data": {
            "text/plain": [
              "<Figure size 432x288 with 1 Axes>"
            ],
            "image/png": "[encoded data removed]"
          },
          "metadata": {
            "needs_background": "light"
          }
        }
      ]
    }
  ]
}